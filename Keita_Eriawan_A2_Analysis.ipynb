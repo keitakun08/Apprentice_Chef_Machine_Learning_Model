{
 "cells": [
  {
   "cell_type": "markdown",
   "metadata": {},
   "source": [
    "<br> <strong> Classification Model Case Study <br>\n",
    "02/05/2020 | DAT-5303 Machine Learning </h4>\n",
    "<br> Author: Keita Eriawan <br>\n",
    "Hult International Business School<br>"
   ]
  },
  {
   "cell_type": "markdown",
   "metadata": {},
   "source": [
    "_____________________________________________________________________________________________________________________"
   ]
  },
  {
   "cell_type": "markdown",
   "metadata": {},
   "source": [
    "Apprentice Chef has given the task to create a machine learning model that predicts which customer would subscribes to their service. The service that they are launching is Halfway There, a cross-selling promotion where subscribers receive a half bottle of wine from a local California vineyard every Wednesday. \n",
    "\n",
    "The target variable is CROSS_SELL_SUCCESS\n",
    "\n",
    "In this analysis, I will be creating a classification model from the Apprentice Chef Dataset. I will be following these stages for my analysis:\n",
    "\n",
    "1. Importing the data\n",
    "2. Exploring the data\n",
    "3. Feature Engineering \n",
    "4. Building the model\n",
    "5. Presenting the results\n",
    "\n",
    "We skipped the data cleaning process because the data that was given was already queried, sampled and verified. \n"
   ]
  },
  {
   "cell_type": "markdown",
   "metadata": {},
   "source": [
    "_____________________________________________________________________________________________________________________"
   ]
  },
  {
   "cell_type": "markdown",
   "metadata": {},
   "source": [
    "<strong> 1. Importing the data"
   ]
  },
  {
   "cell_type": "code",
   "execution_count": 2,
   "metadata": {},
   "outputs": [],
   "source": [
    "# Loading the required packages #\n",
    "\n",
    "import pandas as pd\n",
    "import matplotlib.pyplot as plt\n",
    "import seaborn as sns\n",
    "import statsmodels.formula.api as smf\n",
    "import numpy as np\n",
    "\n",
    "# Scikit-learn packages #\n",
    "from sklearn.metrics         import accuracy_score\n",
    "from sklearn.model_selection import train_test_split\n",
    "from sklearn.linear_model    import LogisticRegression\n",
    "from sklearn.metrics         import confusion_matrix       \n",
    "from sklearn.metrics         import roc_auc_score          \n",
    "from sklearn.neighbors       import KNeighborsClassifier   \n",
    "from sklearn.neighbors       import KNeighborsRegressor    \n",
    "from sklearn.preprocessing   import StandardScaler \n",
    "from sklearn.model_selection import GridSearchCV     \n",
    "from sklearn.metrics         import make_scorer \n",
    "from sklearn.ensemble        import RandomForestClassifier     \n",
    "from sklearn.ensemble        import GradientBoostingClassifier \n",
    "\n",
    "# Decision-Tree packages #\n",
    "from sklearn.tree import DecisionTreeClassifier      \n",
    "from sklearn.tree import export_graphviz             \n",
    "from sklearn.externals.six import StringIO           \n",
    "from IPython.display import Image                   \n",
    "import pydotplus  \n",
    "\n",
    "# Setting pandas print option #\n",
    "pd.set_option('display.max_rows', 500)\n",
    "pd.set_option('display.max_columns', 500)\n",
    "pd.set_option('display.width', 1000)\n",
    "\n",
    "# Specifying the file name #\n",
    "file = 'Apprentice_Chef_Dataset.xlsx'\n",
    "\n",
    "# Reading the file #\n",
    "apprentice_chef = pd.read_excel(file)"
   ]
  },
  {
   "cell_type": "markdown",
   "metadata": {},
   "source": [
    "_____________________________________________________________________________________________________________________"
   ]
  },
  {
   "cell_type": "markdown",
   "metadata": {},
   "source": [
    "<strong> 2. Exploring the dataset"
   ]
  },
  {
   "cell_type": "markdown",
   "metadata": {},
   "source": [
    "***"
   ]
  },
  {
   "cell_type": "markdown",
   "metadata": {},
   "source": [
    "As we have imported all of the necessary packages and dataset, I would like to know what the dataset looks like. I will run the .info(), .describe() and .head() to showcase the data in a summarized version."
   ]
  },
  {
   "cell_type": "code",
   "execution_count": 3,
   "metadata": {},
   "outputs": [],
   "source": [
    "# First 5 rows of the dataset #\n",
    "# apprentice_chef.head()\n",
    "\n",
    "# Info about the dataset #\n",
    "# apprentice_chef.info()\n",
    "\n",
    "# Summary on the dataset #\n",
    "# apprentice_chef.describe().round(2)"
   ]
  },
  {
   "cell_type": "markdown",
   "metadata": {},
   "source": [
    "It would be easier to analyze data visually so in this stage, I will be creating two graphs; barplot to check the frequencies of each variables and scatterplot to see the relationship between the independent variable and dependent variable (CROSS_SELL_SUCCESS). For the barplot, I will be commenting it out to make the notebook run efficiently."
   ]
  },
  {
   "cell_type": "markdown",
   "metadata": {},
   "source": [
    "***"
   ]
  },
  {
   "cell_type": "code",
   "execution_count": 4,
   "metadata": {},
   "outputs": [],
   "source": [
    "# ## Bar graph for outliers detection ###\n",
    "\n",
    "# # Figure and axis size #\n",
    "# fig, ax = plt.subplots(figsize = (10, 10)) # fitting the axis \n",
    "\n",
    "\n",
    "# revenue #\n",
    "# plt.subplot(2, 2, 1)\n",
    "# sns.distplot(apprentice_chef['REVENUE'],\n",
    "#              bins  = 'fd',\n",
    "#              color = 'g')\n",
    "# plt.xlabel('REVENUE')\n",
    "# plt.ylabel('frequency')\n",
    "\n",
    "\n",
    "# total_meals_ordered #\n",
    "# plt.subplot(2, 2, 2)\n",
    "# sns.distplot(apprentice_chef['TOTAL_MEALS_ORDERED'],\n",
    "#              bins  = 'fd',\n",
    "#              color = 'b')\n",
    "# plt.xlabel('TOTAL_MEALS_ORDERED')\n",
    "# plt.ylabel('frequency')\n",
    "\n",
    "# unique_meals_purch #\n",
    "# plt.subplot(2, 2, 3)\n",
    "# sns.distplot(apprentice_chef['UNIQUE_MEALS_PURCH'],\n",
    "#              bins  = 'fd',\n",
    "#              color = 'g')\n",
    "# plt.xlabel('UNIQUE_MEALS_PURCH')\n",
    "# plt.ylabel('frequency')\n",
    "\n",
    "\n",
    "# contacts_w_customer_service #\n",
    "# plt.subplot(2, 2, 4)\n",
    "# sns.distplot(apprentice_chef['CONTACTS_W_CUSTOMER_SERVICE'],\n",
    "#              bins  = 'fd',\n",
    "#              color = 'b')\n",
    "# plt.xlabel('CONTACTS_W_CUSTOMER_SERVICE')\n",
    "# plt.ylabel('frequency')\n",
    "# plt.tight_layout()\n",
    "# plt.show()\n",
    "\n",
    "# #############################################################################\n",
    "\n",
    "# Figure and axis size #\n",
    "# fig, ax = plt.subplots(figsize = (10, 10)) # fitting the axis \n",
    "\n",
    "# product_categories_viewed #\n",
    "# plt.subplot(2, 2, 1)\n",
    "# sns.distplot(apprentice_chef['PRODUCT_CATEGORIES_VIEWED'],\n",
    "#              bins  = 'fd',\n",
    "#              color = 'r')\n",
    "# plt.xlabel('PRODUCT_CATEGORIES_VIEWED')\n",
    "# plt.ylabel('frequency')\n",
    "\n",
    "# avg_time_per_site_visit # \n",
    "# plt.subplot(2, 2, 2)\n",
    "# sns.distplot(apprentice_chef['AVG_TIME_PER_SITE_VISIT'],\n",
    "#              bins  = 'fd',\n",
    "#              color = 'y')\n",
    "# plt.xlabel('AVG_TIME_PER_SITE_VISIT')\n",
    "# plt.ylabel('frequency')\n",
    "\n",
    "# mobile_number # \n",
    "# plt.subplot(2, 2, 3)\n",
    "# sns.distplot(apprentice_chef['MOBILE_NUMBER'],\n",
    "#              bins  = 'fd',\n",
    "#              color = 'r')\n",
    "# plt.xlabel('MOBILE_NUMBER')\n",
    "# plt.ylabel('frequency')\n",
    "\n",
    "# cancellations_before_noon # \n",
    "# plt.subplot(2, 2, 4)\n",
    "# sns.distplot(apprentice_chef['CANCELLATIONS_BEFORE_NOON'],\n",
    "#              bins  = 'fd',\n",
    "#              color = 'y')\n",
    "# plt.xlabel('CANCELLATIONS_BEFORE_NOON')\n",
    "# plt.ylabel('frequency')\n",
    "# plt.tight_layout()\n",
    "# plt.show()\n",
    "\n",
    "\n",
    "# #############################################################################\n",
    "\n",
    "# Figure and axis size #\n",
    "# fig, ax = plt.subplots(figsize = (10, 10)) # fitting the axis \n",
    "\n",
    "# # cancellations_after_noon #\n",
    "# plt.subplot(2, 2, 1)\n",
    "# sns.distplot(apprentice_chef['CANCELLATIONS_AFTER_NOON'],\n",
    "#              bins  = 'fd',\n",
    "#              color = 'g')\n",
    "# plt.xlabel('CANCELLATIONS_AFTER_NOON')\n",
    "# plt.ylabel('frequency')\n",
    "\n",
    "# tastes_and_preferences #\n",
    "# plt.subplot(2, 2, 2)\n",
    "# sns.distplot(apprentice_chef['TASTES_AND_PREFERENCES'],\n",
    "#              bins  = 'fd',\n",
    "#              color = 'b')\n",
    "# plt.xlabel('TASTES_AND_PREFERENCES')\n",
    "# plt.ylabel('frequency')\n",
    "\n",
    "# mobile_logins #\n",
    "# plt.subplot(2, 2, 3)\n",
    "# sns.distplot(apprentice_chef['MOBILE_LOGINS'],\n",
    "#              bins  = 'fd',\n",
    "#              color = 'g')\n",
    "# plt.xlabel('MOBILE_LOGINS')\n",
    "# plt.ylabel('frequency')\n",
    "\n",
    "# pc_logins #\n",
    "# plt.subplot(2, 2, 4)\n",
    "# sns.distplot(apprentice_chef['PC_LOGINS'],\n",
    "#              bins  = 'fd',\n",
    "#              color = 'b')\n",
    "# plt.xlabel('PC_LOGINS')\n",
    "# plt.ylabel('frequency')\n",
    "# plt.tight_layout()\n",
    "# plt.show()\n",
    "\n",
    "\n",
    "# #############################################################################\n",
    "\n",
    "# Figure and axis size #\n",
    "# fig, ax = plt.subplots(figsize = (10, 10)) # fitting the axis \n",
    "\n",
    "# weekly_plan #\n",
    "# plt.subplot(2, 2, 1)\n",
    "# sns.distplot(apprentice_chef['WEEKLY_PLAN'],\n",
    "#              bins  = 'fd',\n",
    "#              color = 'r')\n",
    "# plt.xlabel('WEEKLY_PLAN')\n",
    "# plt.ylabel('frequency')\n",
    "\n",
    "# early_deliveries #\n",
    "# plt.subplot(2, 2, 2)\n",
    "# sns.distplot(apprentice_chef['EARLY_DELIVERIES'],\n",
    "#              bins  = 'fd',\n",
    "#              color = 'y')\n",
    "# plt.xlabel('EARLY_DELIVERIES')\n",
    "# plt.ylabel('frequency')\n",
    "\n",
    "# late_deliveries # \n",
    "# plt.subplot(2, 2, 3)\n",
    "# sns.distplot(apprentice_chef['LATE_DELIVERIES'],\n",
    "#              bins  = 'fd',\n",
    "#              color = 'r')\n",
    "# plt.xlabel('LATE_DELIVERIES')\n",
    "# plt.ylabel('frequency')\n",
    "\n",
    "# package_locker #  \n",
    "# plt.subplot(2, 2, 4)\n",
    "# sns.distplot(apprentice_chef['PACKAGE_LOCKER'],\n",
    "#              bins  = 'fd',\n",
    "#              color = 'y')\n",
    "# plt.xlabel('PACKAGE_LOCKER')\n",
    "# plt.ylabel('frequency')\n",
    "# plt.tight_layout()\n",
    "# plt.show()\n",
    "\n",
    "\n",
    "# #############################################################################\n",
    "\n",
    "# Figure and axis size #\n",
    "# fig, ax = plt.subplots(figsize = (10, 10)) # fitting the axis \n",
    "\n",
    "# refrigerated_locker #  \n",
    "# plt.subplot(2, 2, 1)\n",
    "# sns.distplot(apprentice_chef['REFRIGERATED_LOCKER'],\n",
    "#              bins  = 'fd',\n",
    "#              color = 'g')\n",
    "# plt.xlabel('REFRIGATED_LOCKER')\n",
    "# plt.ylabel('frequency')\n",
    "\n",
    "# followed_recommendations_pct # \n",
    "# plt.subplot(2, 2, 2)\n",
    "# sns.distplot(apprentice_chef['FOLLOWED_RECOMMENDATIONS_PCT'],\n",
    "#              bins  = 'fd',\n",
    "#              color = 'b')\n",
    "# plt.xlabel('FOLLOWED_RECOMMENDATIONS_PCT')\n",
    "# plt.ylabel('frequency')\n",
    "\n",
    "# avg_prep_vid_time # \n",
    "# plt.subplot(2, 2, 3)\n",
    "# sns.distplot(apprentice_chef['AVG_PREP_VID_TIME'],\n",
    "#              bins  = 'fd',\n",
    "#              color = 'g')\n",
    "# plt.xlabel('AVG_PREP_VID_TIME')\n",
    "# plt.ylabel('frequency')\n",
    "\n",
    "# largest_order_size #\n",
    "# plt.subplot(2, 2, 4)\n",
    "# sns.distplot(apprentice_chef['LARGEST_ORDER_SIZE'],\n",
    "#              bins  = 'fd',\n",
    "#              color = 'b')\n",
    "# plt.xlabel('LARGEST_ORDER_SIZE')\n",
    "# plt.ylabel('frequency')\n",
    "# plt.tight_layout()\n",
    "# plt.show()\n",
    "\n",
    "\n",
    "# #############################################################################\n",
    "\n",
    "# Figure and axis size #\n",
    "# fig, ax = plt.subplots(figsize = (10, 10)) # fitting the axis \n",
    "\n",
    "# master_classes_attended # \n",
    "# plt.subplot(2, 2, 1)\n",
    "# sns.distplot(apprentice_chef['MASTER_CLASSES_ATTENDED'],\n",
    "#              bins  = 'fd',\n",
    "#              color = 'r')\n",
    "# plt.xlabel('MASTER_CLASSES_ATTENDED')\n",
    "# plt.ylabel('frequency')\n",
    "\n",
    "# median_meal_rating #\n",
    "# plt.subplot(2, 2, 2)\n",
    "# sns.distplot(apprentice_chef['MEDIAN_MEAL_RATING'],\n",
    "#              bins  = 'fd',\n",
    "#              color = 'y')\n",
    "# plt.xlabel('MEDIAN_MEAL_RATING')\n",
    "# plt.ylabel('frequency')\n",
    "\n",
    "# avg_clicks_per_visit #\n",
    "# plt.subplot(2, 2, 3)\n",
    "# sns.distplot(apprentice_chef['AVG_CLICKS_PER_VISIT'],\n",
    "#              bins  = 'fd',\n",
    "#              color = 'r')\n",
    "# plt.xlabel('AVG_CLICKS_PER_VISIT')\n",
    "# plt.ylabel('frequency')\n",
    "\n",
    "# total_photos_viewed #            \n",
    "# plt.subplot(2, 2, 4)\n",
    "# sns.distplot(apprentice_chef['TOTAL_PHOTOS_VIEWED'],\n",
    "#              bins  = 'fd',\n",
    "#              color = 'y')\n",
    "# plt.xlabel('TOTAL_PHOTOS_VIEWED')\n",
    "# plt.ylabel('frequency')\n",
    "# plt.tight_layout()\n",
    "# plt.show()"
   ]
  },
  {
   "cell_type": "markdown",
   "metadata": {},
   "source": [
    "As the target variable is binary (1 = Yes, 0 = No), the scatterplot would be logistical with two output; 1 por 0. It is important to visualize the graph as we could create a threshold on the changes. Same goes for the scatterplot, I will be commenting out to make my notebook run efficiently."
   ]
  },
  {
   "cell_type": "markdown",
   "metadata": {},
   "source": [
    "***"
   ]
  },
  {
   "cell_type": "code",
   "execution_count": 5,
   "metadata": {},
   "outputs": [],
   "source": [
    "# #### Scatterplot for trend change detection #####\n",
    "\n",
    "# Figure and axis size #\n",
    "# fig, ax = plt.subplots(figsize = (10, 10)) # fitting the axis \n",
    "\n",
    "# total_meals_ordered #\n",
    "# plt.subplot(2, 2, 1)\n",
    "# sns.scatterplot(x = apprentice_chef['TOTAL_MEALS_ORDERED'],\n",
    "#                y = apprentice_chef['CROSS_SELL_SUCCESS'],\n",
    "#                color = 'r')\n",
    "# plt.xlabel('total_meals_ordered')\n",
    "# plt.ylabel('cross sell success')\n",
    "\n",
    "# # unique_meals_purch #\n",
    "# plt.subplot(2, 2, 2)\n",
    "# sns.scatterplot(x = apprentice_chef['UNIQUE_MEALS_PURCH'],\n",
    "#                y = apprentice_chef['CROSS_SELL_SUCCESS'],\n",
    "#                color = 'r')\n",
    "# plt.xlabel('unique_meals_purch')\n",
    "# plt.ylabel('cross sell success')\n",
    "\n",
    "\n",
    "# # contacts_w_customer_service #\n",
    "# plt.subplot(2, 2, 3)\n",
    "# sns.scatterplot(x = apprentice_chef['CONTACTS_W_CUSTOMER_SERVICE'],\n",
    "#                y = apprentice_chef['CROSS_SELL_SUCCESS'],\n",
    "#                color = 'r')\n",
    "# plt.xlabel('contacts_w_customer_service')\n",
    "# plt.ylabel('cross sell success')\n",
    "\n",
    "\n",
    "# # product_categories_viewed #\n",
    "# plt.subplot(2, 2, 4)\n",
    "# sns.scatterplot(x = apprentice_chef['PRODUCT_CATEGORIES_VIEWED'],\n",
    "#                y = apprentice_chef['CROSS_SELL_SUCCESS'],\n",
    "#                color = 'r')\n",
    "# plt.xlabel('product_categories_viewed')\n",
    "# plt.ylabel('cross sell success')\n",
    "# plt.tight_layout()\n",
    "# plt.savefig('AC Scatter 1')\n",
    "# plt.show()\n",
    "\n",
    "\n",
    "# ##############################################################################\n",
    "\n",
    "# # Figure and axis size #\n",
    "# fig, ax = plt.subplots(figsize = (10, 10)) # fitting the axis \n",
    "\n",
    "# # avg_time_per_site_visit # \n",
    "# plt.subplot(2, 2, 1)\n",
    "# sns.scatterplot(x = apprentice_chef['AVG_TIME_PER_SITE_VISIT'],\n",
    "#                y = apprentice_chef['CROSS_SELL_SUCCESS'],\n",
    "#                color = 'b')\n",
    "# plt.xlabel('avg_time_per_site_visit')\n",
    "# plt.ylabel('cross sell success')\n",
    "\n",
    "# # mobile_number # \n",
    "# plt.subplot(2, 2, 2)\n",
    "# sns.scatterplot(x = apprentice_chef['MOBILE_NUMBER'],\n",
    "#                y = apprentice_chef['CROSS_SELL_SUCCESS'],\n",
    "#                color = 'b')\n",
    "# plt.xlabel('mobile_number')\n",
    "# plt.ylabel('cross sell success')\n",
    "\n",
    "# # cancellations_before_noon # \n",
    "# plt.subplot(2, 2, 3)\n",
    "# sns.scatterplot(x = apprentice_chef['CANCELLATIONS_BEFORE_NOON'],\n",
    "#                y = apprentice_chef['CROSS_SELL_SUCCESS'],\n",
    "#                color = 'b')\n",
    "# plt.xlabel('cancellations_before_noon')\n",
    "# plt.ylabel('cross sell success')\n",
    "\n",
    "# # cancellations_after_noon #\n",
    "# plt.subplot(2, 2, 4)\n",
    "# sns.scatterplot(x = apprentice_chef['CANCELLATIONS_AFTER_NOON'],\n",
    "#                y = apprentice_chef['CROSS_SELL_SUCCESS'],\n",
    "#                color = 'b')\n",
    "# plt.xlabel('cancellations_after_noon')\n",
    "# plt.ylabel('cross sell success')\n",
    "# plt.tight_layout()\n",
    "# plt.savefig('AC Scatter 2')\n",
    "# plt.show()\n",
    "\n",
    "\n",
    "# ##############################################################################\n",
    "\n",
    "# # Figure and axis size #\n",
    "# fig, ax = plt.subplots(figsize = (10, 10)) # fitting the axis \n",
    "\n",
    "# # tastes_and_preferences #\n",
    "# plt.subplot(2, 2, 1)\n",
    "# sns.scatterplot(x = apprentice_chef['TASTES_AND_PREFERENCES'],\n",
    "#                y = apprentice_chef['CROSS_SELL_SUCCESS'],\n",
    "#                color = 'g')\n",
    "# plt.xlabel('tastes_and_preferences')\n",
    "# plt.ylabel('cross sell success')\n",
    "\n",
    "# # mobile_logins #\n",
    "# plt.subplot(2, 2, 2)\n",
    "# sns.scatterplot(x = apprentice_chef['MOBILE_LOGINS'],\n",
    "#                y = apprentice_chef['CROSS_SELL_SUCCESS'],\n",
    "#                color = 'g')\n",
    "# plt.xlabel('mobile_logins')\n",
    "# plt.ylabel('cross sell success')\n",
    "\n",
    "# # pc_logins #\n",
    "# plt.subplot(2, 2, 3)\n",
    "# sns.scatterplot(x = apprentice_chef['PC_LOGINS'],\n",
    "#                y = apprentice_chef['CROSS_SELL_SUCCESS'],\n",
    "#                color = 'g')\n",
    "# plt.xlabel('pc_logins')\n",
    "# plt.ylabel('cross sell success')\n",
    "\n",
    "# # weekly_plan #\n",
    "# plt.subplot(2, 2, 4)\n",
    "# sns.scatterplot(x = apprentice_chef['WEEKLY_PLAN'],\n",
    "#                y = apprentice_chef['CROSS_SELL_SUCCESS'],\n",
    "#                color = 'g')\n",
    "# plt.xlabel('weekly_plan')\n",
    "# plt.ylabel('cross sell success')\n",
    "# plt.tight_layout()\n",
    "# plt.savefig('AC Scatter 3')\n",
    "# plt.show()\n",
    "\n",
    "\n",
    "# ##############################################################################\n",
    "\n",
    "# # Figure and axis size #\n",
    "# fig, ax = plt.subplots(figsize = (10, 10)) # fitting the axis \n",
    "\n",
    "# # early_deliveries #\n",
    "# plt.subplot(2, 2, 1)\n",
    "# sns.scatterplot(x = apprentice_chef['EARLY_DELIVERIES'],\n",
    "#                y = apprentice_chef['CROSS_SELL_SUCCESS'],\n",
    "#                color = 'y')\n",
    "# plt.xlabel('early_deliveries')\n",
    "# plt.ylabel('cross sell success')\n",
    "\n",
    "# # late_deliveries # \n",
    "# plt.subplot(2, 2, 2)\n",
    "# sns.scatterplot(x = apprentice_chef['LATE_DELIVERIES'],\n",
    "#                y = apprentice_chef['CROSS_SELL_SUCCESS'],\n",
    "#                color = 'y')\n",
    "# plt.xlabel('late_deliveries')\n",
    "# plt.ylabel('cross sell success')\n",
    "\n",
    "# # package_locker #  \n",
    "# plt.subplot(2, 2, 3)\n",
    "# sns.scatterplot(x = apprentice_chef['PACKAGE_LOCKER'],\n",
    "#                y = apprentice_chef['CROSS_SELL_SUCCESS'],\n",
    "#                color = 'y')\n",
    "# plt.xlabel('package_locker')\n",
    "# plt.ylabel('cross sell success')\n",
    "\n",
    "# # refrigerated_locker #  \n",
    "# plt.subplot(2, 2, 4)\n",
    "# sns.scatterplot(x = apprentice_chef['REFRIGERATED_LOCKER'],\n",
    "#                y = apprentice_chef['CROSS_SELL_SUCCESS'],\n",
    "#                color = 'y')\n",
    "# plt.xlabel('refrigerated_locker')\n",
    "# plt.ylabel('cross sell success')\n",
    "# plt.tight_layout()\n",
    "# plt.savefig('AC Scatter 4')\n",
    "# plt.show()\n",
    "\n",
    "\n",
    "# ##############################################################################\n",
    "\n",
    "# # Figure and axis size #\n",
    "# fig, ax = plt.subplots(figsize = (10, 10)) # fitting the axis \n",
    "\n",
    "# # followed_recommendations_pct # \n",
    "# plt.subplot(2, 2, 1)\n",
    "# sns.scatterplot(x = apprentice_chef['FOLLOWED_RECOMMENDATIONS_PCT'],\n",
    "#                y = apprentice_chef['CROSS_SELL_SUCCESS'],\n",
    "#                color = 'r')\n",
    "# plt.xlabel('followed_recommendations_pct')\n",
    "# plt.ylabel('cross sell success')\n",
    "\n",
    "# # avg_prep_vid_time # \n",
    "# plt.subplot(2, 2, 2)\n",
    "# sns.scatterplot(x = apprentice_chef['AVG_PREP_VID_TIME'],\n",
    "#                y = apprentice_chef['CROSS_SELL_SUCCESS'],\n",
    "#                color = 'r')\n",
    "# plt.xlabel('avg_prep_vid_time')\n",
    "# plt.ylabel('cross sell success')\n",
    "\n",
    "# # largest_order_size #\n",
    "# plt.subplot(2, 2, 3)\n",
    "# sns.scatterplot(x = apprentice_chef['LARGEST_ORDER_SIZE'],\n",
    "#                y = apprentice_chef['CROSS_SELL_SUCCESS'],\n",
    "#                color = 'r')\n",
    "# plt.xlabel('largest_order_size')\n",
    "# plt.ylabel('cross sell success')\n",
    "\n",
    "# # master_classes_attended # \n",
    "# plt.subplot(2, 2, 4)\n",
    "# sns.scatterplot(x = apprentice_chef['MASTER_CLASSES_ATTENDED'],\n",
    "#                y = apprentice_chef['CROSS_SELL_SUCCESS'],\n",
    "#                color = 'r')\n",
    "# plt.xlabel('master_classes_attended')\n",
    "# plt.ylabel('cross sell success')\n",
    "# plt.tight_layout()\n",
    "# plt.savefig('AC Scatter 5')\n",
    "# plt.show()\n",
    "\n",
    "\n",
    "# ##############################################################################\n",
    "\n",
    "# # Figure and axis size #\n",
    "# fig, ax = plt.subplots(figsize = (10, 10)) # fitting the axis \n",
    "\n",
    "# # median_meal_rating #\n",
    "# plt.subplot(2, 2, 1)\n",
    "# sns.scatterplot(x = apprentice_chef['MEDIAN_MEAL_RATING'],\n",
    "#                y = apprentice_chef['CROSS_SELL_SUCCESS'],\n",
    "#                color = 'b')\n",
    "# plt.xlabel('median_meal_rating')\n",
    "# plt.ylabel('cross sell success')\n",
    "\n",
    "# # avg_clicks_per_visit #\n",
    "# plt.subplot(2, 2, 2)\n",
    "# sns.scatterplot(x = apprentice_chef['AVG_CLICKS_PER_VISIT'],\n",
    "#                y = apprentice_chef['CROSS_SELL_SUCCESS'],\n",
    "#                color = 'b')\n",
    "# plt.xlabel('avg_clicks_per_visit')\n",
    "# plt.ylabel('cross sell success')\n",
    "\n",
    "# # total_photos_viewed #            \n",
    "# plt.subplot(2, 2, 3)\n",
    "# sns.scatterplot(x = apprentice_chef['TOTAL_PHOTOS_VIEWED'],\n",
    "#                y = apprentice_chef['CROSS_SELL_SUCCESS'],\n",
    "#                color = 'b')\n",
    "# plt.xlabel('total_photos_viewed')\n",
    "# plt.ylabel('cross sell success')\n",
    "# plt.tight_layout()\n",
    "# plt.savefig('AC Scatter 6')\n",
    "# plt.show()"
   ]
  },
  {
   "cell_type": "markdown",
   "metadata": {},
   "source": [
    "In the exploratory stage, we can see that there are patterns from the barplot and the scatterplot. For example, the avg_time_per_site_visit scatterplot indicates that there is an outlier on the person who subscribe to the cross sell promotion. A customer who spends on average of 1600 seconds on the website has subscribe to the cross sell promotion service but the scatterplot shows that on average customers who spent around 0 - 600 seconds has a subscribes to the cross sell promotion services. This is interesting because when we visualise the data, we can identify different patterns and trends that can be useful for the analysis and feature engineering stage."
   ]
  },
  {
   "cell_type": "markdown",
   "metadata": {},
   "source": [
    "_____________________________________________________________________________________________________________________"
   ]
  },
  {
   "cell_type": "markdown",
   "metadata": {},
   "source": [
    "<strong> 3. Feature Engineering"
   ]
  },
  {
   "cell_type": "markdown",
   "metadata": {},
   "source": [
    "In this stage, I will be analyzing the variables on the dataset and conduct feature engineering process. I will check the presence of an outlier and create an outlier threshold to create a new variable. Also, I will creating new features based on the variables that are presented in the dataset."
   ]
  },
  {
   "cell_type": "markdown",
   "metadata": {},
   "source": [
    "_____________________________________________________________________________________________________________________"
   ]
  },
  {
   "cell_type": "markdown",
   "metadata": {},
   "source": [
    "<strong> 3.1 Creating a new features based on the variables on the dataset "
   ]
  },
  {
   "cell_type": "markdown",
   "metadata": {},
   "source": [
    "First, I will be creating new features. The method that I will be doing is to combine two or more variables that can create a new features."
   ]
  },
  {
   "cell_type": "markdown",
   "metadata": {},
   "source": [
    "<strong> 3.1.1 Average number of meal ordered that follows the meal recommendation that was generated for them"
   ]
  },
  {
   "cell_type": "markdown",
   "metadata": {},
   "source": [
    "For this feature, I would like to create a feature on the average number of meals that followed the recommendation that was provided. For example, a customer orders 200 meals in total and 50% of the time they follow the recommendations. This new feature showcases the number of meals that follows the recommendations and the one that doesn't follow the recommendation. In this case, we can assume that out of the 200 meals, 100 of them the customer cooked the meal with the recommendation."
   ]
  },
  {
   "cell_type": "markdown",
   "metadata": {},
   "source": [
    "***"
   ]
  },
  {
   "cell_type": "code",
   "execution_count": 6,
   "metadata": {},
   "outputs": [],
   "source": [
    "# Changing the FOLLOWED_RECOMMENDATIONS_PCT column into a percentage format #\n",
    "\n",
    "apprentice_chef['FOLLOWED_RECOMMENDATIONS_PCT'] = apprentice_chef['FOLLOWED_RECOMMENDATIONS_PCT'] / 100\n",
    "\n",
    "# Number of meal prepared that follows the recommendation #\n",
    "\n",
    "apprentice_chef['TOTAL_MEAL_FOLLOWED_RECOMMENDATIONS'] = apprentice_chef['TOTAL_MEALS_ORDERED'] * apprentice_chef['FOLLOWED_RECOMMENDATIONS_PCT']\n",
    "\n",
    "# Round the value into 2 decimal point #\n",
    "\n",
    "apprentice_chef['TOTAL_MEAL_FOLLOWED_RECOMMENDATIONS'] = apprentice_chef['TOTAL_MEAL_FOLLOWED_RECOMMENDATIONS'].round(0)\n"
   ]
  },
  {
   "cell_type": "markdown",
   "metadata": {},
   "source": [
    "<strong> 3.1.2 Average number of meal ordered that does not follows the meal recommendation that was generated for them"
   ]
  },
  {
   "cell_type": "markdown",
   "metadata": {},
   "source": [
    "Vice versa, I have created a new feature with the number of meal prepared that doesn't follow the recommendations. I simply subtract the total meals ordered with the number of meal prepared that follows the recommendations."
   ]
  },
  {
   "cell_type": "markdown",
   "metadata": {},
   "source": [
    "***"
   ]
  },
  {
   "cell_type": "code",
   "execution_count": 7,
   "metadata": {},
   "outputs": [],
   "source": [
    "# Number of meal prepared that does not follows the recommendation #\n",
    "\n",
    "apprentice_chef['TOTAL_MEAL_NOT_FOLLOWED_RECOMMENDATIONS'] = apprentice_chef['TOTAL_MEALS_ORDERED'] - apprentice_chef['TOTAL_MEAL_FOLLOWED_RECOMMENDATIONS']"
   ]
  },
  {
   "cell_type": "markdown",
   "metadata": {},
   "source": [
    "<strong> 3.1.3 Average meal price per month"
   ]
  },
  {
   "cell_type": "markdown",
   "metadata": {},
   "source": [
    "For this feature, I would like to calculate the average price meal per month for each customer. Based on the case study, the lowest price for one meal is 10 dollars and the highest price for one meal is 23 dollars. This is the pricing excluding the beverages. I cannot identify if the customer ordered drinks or not so in this case, I would assume that this is the price for meals. "
   ]
  },
  {
   "cell_type": "markdown",
   "metadata": {},
   "source": [
    "***"
   ]
  },
  {
   "cell_type": "code",
   "execution_count": 8,
   "metadata": {},
   "outputs": [],
   "source": [
    "# Average price for one meal per month #\n",
    "\n",
    "apprentice_chef['AVERAGE_MEAL_PRICE_PER_MONTH'] = apprentice_chef['REVENUE'] / apprentice_chef['TOTAL_MEALS_ORDERED']\n",
    "\n",
    "# Rounding of to 2 decimal points #\n",
    "\n",
    "apprentice_chef['AVERAGE_MEAL_PRICE_PER_MONTH'] = apprentice_chef['AVERAGE_MEAL_PRICE_PER_MONTH'].round(2)"
   ]
  },
  {
   "cell_type": "markdown",
   "metadata": {},
   "source": [
    "<strong> 3.1.4 Average meal ordered per month"
   ]
  },
  {
   "cell_type": "markdown",
   "metadata": {},
   "source": [
    "For this feature, I would like to know the average number of meal ordered per month for each customer. To do this, I would simply get the total meals ordered column and divided each of the rows with 12 as the dataset is collected in the span of 12 months."
   ]
  },
  {
   "cell_type": "markdown",
   "metadata": {},
   "source": [
    "***"
   ]
  },
  {
   "cell_type": "code",
   "execution_count": 9,
   "metadata": {},
   "outputs": [],
   "source": [
    "# Average total meal ordered per month #\n",
    "\n",
    "apprentice_chef['AVERAGE_MEAL_ORDERED_PER_MONTH'] = apprentice_chef['TOTAL_MEALS_ORDERED'] / 12\n",
    "\n",
    "# Rounding off to 2 decimal points #\n",
    "\n",
    "apprentice_chef['AVERAGE_MEAL_ORDERED_PER_MONTH'] = apprentice_chef['AVERAGE_MEAL_ORDERED_PER_MONTH'].round(2)"
   ]
  },
  {
   "cell_type": "markdown",
   "metadata": {},
   "source": [
    "<strong> 3.1.5 Total number of cancellation"
   ]
  },
  {
   "cell_type": "markdown",
   "metadata": {},
   "source": [
    "For this feature, I would like to combine the number of cancellation before and after noon."
   ]
  },
  {
   "cell_type": "markdown",
   "metadata": {},
   "source": [
    "***"
   ]
  },
  {
   "cell_type": "code",
   "execution_count": 10,
   "metadata": {},
   "outputs": [],
   "source": [
    "# Total number of cancellation #\n",
    "\n",
    "apprentice_chef['TOTAL_CANCELLATION'] = apprentice_chef['CANCELLATIONS_BEFORE_NOON'] + apprentice_chef['CANCELLATIONS_AFTER_NOON']\n"
   ]
  },
  {
   "cell_type": "markdown",
   "metadata": {},
   "source": [
    "<strong> 3.1.6 Total Number of Login"
   ]
  },
  {
   "cell_type": "markdown",
   "metadata": {},
   "source": [
    "For this feature, I would like to create the total number of login by combining the number of login via PC and login via mobile for each customers."
   ]
  },
  {
   "cell_type": "markdown",
   "metadata": {},
   "source": [
    "***"
   ]
  },
  {
   "cell_type": "code",
   "execution_count": 11,
   "metadata": {},
   "outputs": [],
   "source": [
    "# Total number of login #\n",
    "\n",
    "apprentice_chef['TOTAL_LOGIN'] = apprentice_chef['MOBILE_LOGINS'] + apprentice_chef['PC_LOGINS']\n"
   ]
  },
  {
   "cell_type": "markdown",
   "metadata": {},
   "source": [
    "<strong> 3.1.7 Total number of normal delivery per customer & Average number of normal deliveries per customer"
   ]
  },
  {
   "cell_type": "markdown",
   "metadata": {},
   "source": [
    "For this feature, I would like to know the number of normal deliveries and special deliveries. The definition of normal deliveries is the the number of deliveries that are within the designated delivery windows. Special deliveries is the number of early deliveries + late deliveries. \n",
    "\n",
    "I will be adding both early and late deliveries and the result will be used as a divisor to total meal ordered. There is a limitation in this feature as we are assuming that person orders one meal.\n",
    "\n",
    "I will be able to create two features:\n",
    "1. Total number of special deliveries per customer\n",
    "2. Total number of normal deliveries per customer"
   ]
  },
  {
   "cell_type": "markdown",
   "metadata": {},
   "source": [
    "***"
   ]
  },
  {
   "cell_type": "code",
   "execution_count": 12,
   "metadata": {},
   "outputs": [],
   "source": [
    "# Adding the number of early deliveries and late deliveries to create total number of special deliveries #\n",
    "apprentice_chef['TOTAL_SPECIAL_DELIVERIES'] = apprentice_chef['EARLY_DELIVERIES'] + apprentice_chef['LATE_DELIVERIES']\n",
    "\n",
    "# Creating the total number of normal deliveries #\n",
    "apprentice_chef['TOTAL_NORMAL_DELIVERIES'] = apprentice_chef['TOTAL_MEALS_ORDERED'] - apprentice_chef['TOTAL_SPECIAL_DELIVERIES']"
   ]
  },
  {
   "cell_type": "markdown",
   "metadata": {},
   "source": [
    "<strong> 3.1.8 Average customer engagement per site visit"
   ]
  },
  {
   "cell_type": "markdown",
   "metadata": {},
   "source": [
    "For this feature, I would calculate it by dividing the product categories viewed with the average click per visit. I want to create a feature that showcase the value of the website. The variables that are connected to the website are \"AVG_TIME_PER_SITE_VISIT\", \"PRODUCT_CATEGORIES_VIEWED\", \"AVG_CLICKS_PER_VISIT\" and \"TOTAL_PHOTOS_VIEWED\".In this case, I would like to measure the engagement in the website by looking on their average click per visit and the product categories that they are viewing."
   ]
  },
  {
   "cell_type": "markdown",
   "metadata": {},
   "source": [
    "***"
   ]
  },
  {
   "cell_type": "code",
   "execution_count": 13,
   "metadata": {},
   "outputs": [],
   "source": [
    "# Creating average customer engagement per site visit #\n",
    "\n",
    "apprentice_chef['AVG_CUSTOMER_ENGAGEMENT'] = apprentice_chef['PRODUCT_CATEGORIES_VIEWED'] / apprentice_chef['AVG_CLICKS_PER_VISIT']\n",
    "\n",
    "# Rounding it to 2 decimal places #\n",
    "apprentice_chef['AVG_CUSTOMER_ENGAGEMENT'] = apprentice_chef['AVG_CUSTOMER_ENGAGEMENT'].round(2)"
   ]
  },
  {
   "cell_type": "markdown",
   "metadata": {},
   "source": [
    "***"
   ]
  },
  {
   "cell_type": "markdown",
   "metadata": {},
   "source": [
    "<strong> 3.2 Handling the categorical variable "
   ]
  },
  {
   "cell_type": "markdown",
   "metadata": {},
   "source": [
    "In order to create more features, I would like to analyze the categorical variables. These variables are \"NAME\", \"EMAIL\", \"FIRST_NAME\" and \"LAST_NAME\". The method that I will be using to transform my categorical variables is the dummy variables method."
   ]
  },
  {
   "cell_type": "markdown",
   "metadata": {},
   "source": [
    "<strong> 3.2.1 Separating the email name and the email domain"
   ]
  },
  {
   "cell_type": "markdown",
   "metadata": {},
   "source": [
    "I am trying to separate the email name and the domain name in the \"EMAIL\" column. The purpose of this separation is to group the customers to different domains (\"personal\", \"junk\", \"professional\")"
   ]
  },
  {
   "cell_type": "markdown",
   "metadata": {},
   "source": [
    "***"
   ]
  },
  {
   "cell_type": "code",
   "execution_count": 14,
   "metadata": {},
   "outputs": [],
   "source": [
    "### Splitting email names: name and domain ###\n",
    "\n",
    "# Placeholder list #\n",
    "placeholder_lst = []\n",
    "\n",
    "# Creating a for loop to separate the domain and email name #\n",
    "for index, col in apprentice_chef.iterrows():\n",
    "    split_email = apprentice_chef.loc[index, 'EMAIL'].split(sep = '@')\n",
    "    placeholder_lst.append(split_email)\n",
    "\n",
    "# Creating a new dataframe for the separate email name and domain #\n",
    "email_df = pd.DataFrame(placeholder_lst)"
   ]
  },
  {
   "cell_type": "markdown",
   "metadata": {},
   "source": [
    "After I created a separate data frame with two variables: email name and email domain, I will be concatenating the email domain into the apprentice_chef data set."
   ]
  },
  {
   "cell_type": "markdown",
   "metadata": {},
   "source": [
    "***"
   ]
  },
  {
   "cell_type": "code",
   "execution_count": 15,
   "metadata": {},
   "outputs": [
    {
     "data": {
      "text/plain": [
       "gmail.com           303\n",
       "protonmail.com      284\n",
       "yahoo.com           274\n",
       "msn.com              72\n",
       "aol.com              69\n",
       "passport.com         64\n",
       "hotmail.com          63\n",
       "live.com             62\n",
       "me.com               59\n",
       "amex.com             30\n",
       "jnj.com              28\n",
       "mcdonalds.com        28\n",
       "cocacola.com         28\n",
       "merck.com            28\n",
       "nike.com             27\n",
       "apple.com            27\n",
       "ibm.com              26\n",
       "ge.org               26\n",
       "dupont.com           26\n",
       "chevron.com          25\n",
       "microsoft.com        25\n",
       "unitedhealth.com     24\n",
       "travelers.com        24\n",
       "exxon.com            24\n",
       "boeing.com           23\n",
       "verizon.com          22\n",
       "mmm.com              22\n",
       "pg.com               22\n",
       "caterpillar.com      22\n",
       "disney.com           21\n",
       "walmart.com          21\n",
       "pfizer.com           20\n",
       "visa.com             20\n",
       "jpmorgan.com         19\n",
       "unitedtech.com       18\n",
       "goldmansacs.com      18\n",
       "cisco.com            18\n",
       "intel.com            17\n",
       "homedepot.com        17\n",
       "Name: email_domain, dtype: int64"
      ]
     },
     "execution_count": 15,
     "metadata": {},
     "output_type": "execute_result"
    }
   ],
   "source": [
    "### Concatenating the new email domain with the  original dataset ###\n",
    "\n",
    "# Renaming the column #\n",
    "email_df.columns = ['email_name', 'email_domain']\n",
    "\n",
    "# Concatenating email_domain with apprentice_chef df #\n",
    "apprentice_chef = pd.concat([apprentice_chef, email_df.loc[ : , 'email_domain']],\n",
    "                           axis=1)\n",
    "\n",
    "# Checking the counts on each domain #\n",
    "apprentice_chef.loc[ : , 'email_domain'].value_counts()"
   ]
  },
  {
   "cell_type": "markdown",
   "metadata": {},
   "source": [
    "<strong> 3.2.2 Creating a new column for the dummy variables"
   ]
  },
  {
   "cell_type": "markdown",
   "metadata": {},
   "source": [
    "Next, I am creating two list that contains the name of the personal domains and junk domains. With this, I will create a for loop to categorize the email. After that, I will create a new variable name called DOMAIN_GROUP and add it to the apprentice_chef data set."
   ]
  },
  {
   "cell_type": "markdown",
   "metadata": {},
   "source": [
    "***"
   ]
  },
  {
   "cell_type": "code",
   "execution_count": 16,
   "metadata": {},
   "outputs": [],
   "source": [
    "### Categorising the email type by domain ###\n",
    "\n",
    "# Creating a list of domain types #\n",
    "\n",
    "personal_email_domains = ['@gmail.com', '@yahoo.com', '@protonmail.com']\n",
    "junk_email_domains = ['@me.com','@aol.com', '@hotmail.com', '@live.com', '@msn.com',\n",
    "                    '@passport.com']\n",
    "\n",
    "# placeholder list #\n",
    "placeholder_lst = []\n",
    "\n",
    "# Creating a loop for categorising email domain #\n",
    "for domain in apprentice_chef['email_domain']:\n",
    "    if '@' + domain in personal_email_domains:\n",
    "        placeholder_lst.append('personal')\n",
    "    elif '@' + domain in junk_email_domains:\n",
    "        placeholder_lst.append('junk')\n",
    "    else:\n",
    "        placeholder_lst.append('professional')\n",
    "        \n",
    "# Concatenating with original DataFrame #\n",
    "apprentice_chef['DOMAIN_GROUP'] = pd.Series(placeholder_lst)\n",
    "\n",
    "# Checking the count of each email type #\n",
    "# apprentice_chef['DOMAIN_GROUP'].value_counts()"
   ]
  },
  {
   "cell_type": "markdown",
   "metadata": {},
   "source": [
    "Now I will be creating a dummy variable for each of the domain names in the DOMAIN GROUP column"
   ]
  },
  {
   "cell_type": "markdown",
   "metadata": {},
   "source": [
    "***"
   ]
  },
  {
   "cell_type": "code",
   "execution_count": 17,
   "metadata": {},
   "outputs": [],
   "source": [
    "## Creating a dummy variable for the email domain ###\n",
    "\n",
    "#one hot encoding categorical variables #\n",
    "one_hot_domain_group = pd.get_dummies(apprentice_chef['DOMAIN_GROUP'])\n",
    "\n",
    "# Joining codings together #\n",
    "apprentice_chef = apprentice_chef.join([one_hot_domain_group])\n",
    "\n",
    "# saving new columns #\n",
    "new_columns = apprentice_chef.columns"
   ]
  },
  {
   "cell_type": "markdown",
   "metadata": {},
   "source": [
    "<strong> 3.2.3 Dummy variables for median meal rating"
   ]
  },
  {
   "cell_type": "markdown",
   "metadata": {},
   "source": [
    "I would like to create a dummy variables for the median meal rating"
   ]
  },
  {
   "cell_type": "markdown",
   "metadata": {},
   "source": [
    "***"
   ]
  },
  {
   "cell_type": "code",
   "execution_count": 18,
   "metadata": {},
   "outputs": [],
   "source": [
    "#one hot encoding categorical variables #\n",
    "one_hot_median_meal_rating = pd.get_dummies(apprentice_chef['MEDIAN_MEAL_RATING'])\n",
    "\n",
    "# Joining codings together #\n",
    "apprentice_chef = apprentice_chef.join([one_hot_median_meal_rating])\n",
    "\n",
    "# saving new columns #\n",
    "new_columns = apprentice_chef.columns\n",
    "\n",
    "# Renaming the column names #\n",
    "apprentice_chef.rename(columns={1:'VERY_LOW_MEAL_RATING',\n",
    "                                2:'LOW_MEAL_RATING',\n",
    "                                3:'NEUTRAL_MEAL_RATING',\n",
    "                                4:'HIGH_MEAL_RATING',\n",
    "                                5:'VERY_HIGH_MEAL_RATING'},\n",
    "                                inplace = True)"
   ]
  },
  {
   "cell_type": "markdown",
   "metadata": {},
   "source": [
    "<strong> 3.3 Outlier Threshold "
   ]
  },
  {
   "cell_type": "markdown",
   "metadata": {},
   "source": [
    "For my last feature engineering process, I will be creating outliers threshold. The purpose of creating this outliers threshold is to capture the noise of each of the variable. With more feature is created with the threshold, hopefully it will increase the accuracy of the model."
   ]
  },
  {
   "cell_type": "markdown",
   "metadata": {},
   "source": [
    "***"
   ]
  },
  {
   "cell_type": "code",
   "execution_count": 19,
   "metadata": {},
   "outputs": [],
   "source": [
    "# Creating the outliers threshold #\n",
    "\n",
    "REVENUE_hi                      = 3000\n",
    "TOTAL_MEALS_ORDERED_hi          = 150\n",
    "UNIQUE_MEALS_PURCH_hi           = 7\n",
    "CONTACTS_W_CUSTOMER_SERVICE_lo  = 4\n",
    "CONTACTS_W_CUSTOMER_SERVICE_hi  = 9\n",
    "AVG_TIME_PER_SITE_VISIT_hi      = 180\n",
    "CANCELLATIONS_BEFORE_NOON_hi    = 1\n",
    "CANCELLATIONS_AFTER_NOON_hi     = 2\n",
    "MOBILE_LOGINS_lo                = 5\n",
    "MOBILE_LOGINS_hi                = 6\n",
    "PC_LOGINS_lo                    = 1\n",
    "PC_LOGINS_hi                    = 2\n",
    "WEEKLY_PLAN_hi                  = 15\n",
    "EARLY_DELIVERIES_hi             = 2\n",
    "LATE_DELIVERIES_hi              = 5\n",
    "AVG_PREP_VID_TIME_hi            = 200\n",
    "LARGEST_ORDER_SIZE_lo           = 2\n",
    "LARGEST_ORDER_SIZE_hi           = 6\n",
    "MASTER_CLASSES_ATTENDED_hi      = 2\n",
    "AVG_CLICKS_PER_VISIT_lo         = 10\n",
    "TOTAL_PHOTOS_VIEWED_hi          = 500\n",
    "TOTAL_PHOTOS_VIEWED_lo          = 0"
   ]
  },
  {
   "cell_type": "markdown",
   "metadata": {},
   "source": [
    "After I created the threshold for the outliers, I will be creating new columns for each of the outliers that I have identified."
   ]
  },
  {
   "cell_type": "markdown",
   "metadata": {},
   "source": [
    "***"
   ]
  },
  {
   "cell_type": "code",
   "execution_count": 20,
   "metadata": {},
   "outputs": [],
   "source": [
    "### Creating the outlier columns  ###\n",
    "\n",
    "# REVENUE #\n",
    "\n",
    "apprentice_chef['OUT_REVENUE'] = 0\n",
    "\n",
    "# Creating the condition for outliers #\n",
    "condition_hi = apprentice_chef.loc[0:,'OUT_REVENUE'][apprentice_chef['REVENUE'] \n",
    "                                                                 > REVENUE_hi]\n",
    "\n",
    "apprentice_chef['OUT_REVENUE'].replace(to_replace = condition_hi,\n",
    "                                value      = 1,\n",
    "                                inplace    = True)\n",
    "\n",
    "# TOTAL_MEALS_ORDERED #\n",
    "\n",
    "apprentice_chef['OUT_TOTAL_MEALS_ORDERED'] = 0\n",
    "\n",
    "# Creating the condition for outliers #\n",
    "condition_hi = apprentice_chef.loc[0:,'OUT_TOTAL_MEALS_ORDERED'][apprentice_chef['TOTAL_MEALS_ORDERED'] \n",
    "                                                                 > TOTAL_MEALS_ORDERED_hi]\n",
    "\n",
    "apprentice_chef['OUT_TOTAL_MEALS_ORDERED'].replace(to_replace = condition_hi,\n",
    "                                value      = 1,\n",
    "                                inplace    = True)\n",
    "\n",
    "# UNIQUE_MEALS_PURCH #\n",
    "\n",
    "apprentice_chef['OUT_UNIQUE_MEALS_PURCH'] = 0\n",
    "\n",
    "# Creating the condition for outliers #\n",
    "condition_hi = apprentice_chef.loc[0:,'OUT_UNIQUE_MEALS_PURCH'][apprentice_chef['UNIQUE_MEALS_PURCH'] \n",
    "                                                                 > UNIQUE_MEALS_PURCH_hi ]\n",
    "\n",
    "apprentice_chef['OUT_UNIQUE_MEALS_PURCH'].replace(to_replace = condition_hi,\n",
    "                                value      = 1,\n",
    "                                inplace    = True)\n",
    "\n",
    "# CONTACTS_W_CUSTOMER_SERVICE #\n",
    "\n",
    "apprentice_chef['OUT_CONTACTS_W_CUSTOMER_SERVICE'] = 0\n",
    "\n",
    "# Creating the condition for outliers #\n",
    "condition_hi = apprentice_chef.loc[0:,'OUT_CONTACTS_W_CUSTOMER_SERVICE'][apprentice_chef['CONTACTS_W_CUSTOMER_SERVICE']\n",
    "                                                                         > CONTACTS_W_CUSTOMER_SERVICE_hi]\n",
    "condition_lo = apprentice_chef.loc[0:,'OUT_CONTACTS_W_CUSTOMER_SERVICE'][apprentice_chef['CONTACTS_W_CUSTOMER_SERVICE'] \n",
    "                                                                         < CONTACTS_W_CUSTOMER_SERVICE_lo]                                                                 \n",
    "\n",
    "apprentice_chef['OUT_CONTACTS_W_CUSTOMER_SERVICE'].replace(to_replace = condition_hi,\n",
    "                                value      = 1,\n",
    "                                inplace    = True)\n",
    "\n",
    "apprentice_chef['OUT_CONTACTS_W_CUSTOMER_SERVICE'].replace(to_replace = condition_lo,\n",
    "                                    value      = 1,\n",
    "                                    inplace    = True)\n",
    "\n",
    "# AVG_TIME_PER_SITE_VISIT #\n",
    "\n",
    "apprentice_chef['OUT_AVG_TIME_PER_SITE_VISIT'] = 0\n",
    "\n",
    "# Creating the condition for outliers #\n",
    "condition_hi = apprentice_chef.loc[0:,'OUT_AVG_TIME_PER_SITE_VISIT'][apprentice_chef['AVG_TIME_PER_SITE_VISIT']\n",
    "                                                                         > AVG_TIME_PER_SITE_VISIT_hi]\n",
    "\n",
    "apprentice_chef['OUT_AVG_TIME_PER_SITE_VISIT'].replace(to_replace = condition_hi,\n",
    "                                value      = 1,\n",
    "                                inplace    = True)\n",
    "\n",
    "# CANCELLATIONS_BEFORE_NOON #\n",
    "\n",
    "apprentice_chef['OUT_CANCELLATIONS_BEFORE_NOON'] = 0\n",
    "\n",
    "# Creating the condition for outliers #\n",
    "condition_hi = apprentice_chef.loc[0:,'OUT_CANCELLATIONS_BEFORE_NOON'][apprentice_chef['CANCELLATIONS_BEFORE_NOON']\n",
    "                                                                         > CANCELLATIONS_BEFORE_NOON_hi]\n",
    "\n",
    "apprentice_chef['OUT_CANCELLATIONS_BEFORE_NOON'].replace(to_replace = condition_hi,\n",
    "                                value      = 1,\n",
    "                                inplace    = True)\n",
    "\n",
    "# CANCELLATIONS_AFTER_NOON #\n",
    "\n",
    "apprentice_chef['OUT_CANCELLATIONS_AFTER_NOON'] = 0\n",
    "\n",
    "# Creating the condition for outliers #\n",
    "condition_hi = apprentice_chef.loc[0:,'OUT_CANCELLATIONS_AFTER_NOON'][apprentice_chef['CANCELLATIONS_AFTER_NOON']\n",
    "                                                                         > CANCELLATIONS_AFTER_NOON_hi]\n",
    "\n",
    "apprentice_chef['OUT_CANCELLATIONS_AFTER_NOON'].replace(to_replace = condition_hi,\n",
    "                                value      = 1,\n",
    "                                inplace    = True)\n",
    "\n",
    "\n",
    "# EARLY_DELIVERIES # \n",
    "\n",
    "apprentice_chef['OUT_EARLY_DELIVERIES'] = 0\n",
    "\n",
    "# Creating the condition for outliers #\n",
    "condition_hi = apprentice_chef.loc[0:,'OUT_EARLY_DELIVERIES'][apprentice_chef['EARLY_DELIVERIES'] \n",
    "                                                                 > EARLY_DELIVERIES_hi]\n",
    "\n",
    "apprentice_chef['OUT_EARLY_DELIVERIES'].replace(to_replace = condition_hi,\n",
    "                                value      = 1,\n",
    "                                inplace    = True)\n",
    "# LATE_DELIVERIES # \n",
    "\n",
    "apprentice_chef['OUT_LATE_DELIVERIES'] = 0\n",
    "\n",
    "# Creating the condition for outliers #\n",
    "condition_hi = apprentice_chef.loc[0:,'OUT_LATE_DELIVERIES'][apprentice_chef['LATE_DELIVERIES'] \n",
    "                                                                 > LATE_DELIVERIES_hi]\n",
    "\n",
    "apprentice_chef['OUT_LATE_DELIVERIES'].replace(to_replace = condition_hi,\n",
    "                                value      = 1,\n",
    "                                inplace    = True)\n",
    "\n",
    "# AVG_PREP_VID_TIME #\n",
    "\n",
    "apprentice_chef['OUT_AVG_PREP_VID_TIME'] = 0\n",
    "\n",
    "# Creating the condition for outliers #\n",
    "condition_hi = apprentice_chef.loc[0:,'OUT_AVG_PREP_VID_TIME'][apprentice_chef['AVG_PREP_VID_TIME'] \n",
    "                                                                 > AVG_PREP_VID_TIME_hi]\n",
    "\n",
    "apprentice_chef['OUT_AVG_PREP_VID_TIME'].replace(to_replace = condition_hi,\n",
    "                                value      = 1,\n",
    "                                inplace    = True)\n",
    "\n",
    "# LARGEST_ORDER_SIZE #\n",
    "\n",
    "apprentice_chef['OUT_LARGEST_ORDER_SIZE'] = 0\n",
    "\n",
    "# Creating the condition for outliers #\n",
    "condition_hi = apprentice_chef.loc[0:,'OUT_LARGEST_ORDER_SIZE'][apprentice_chef['LARGEST_ORDER_SIZE']\n",
    "                                                                         > LARGEST_ORDER_SIZE_hi]\n",
    "condition_lo = apprentice_chef.loc[0:,'OUT_LARGEST_ORDER_SIZE'][apprentice_chef['LARGEST_ORDER_SIZE'] \n",
    "                                                                         < LARGEST_ORDER_SIZE_lo]                                                                 \n",
    "\n",
    "apprentice_chef['OUT_LARGEST_ORDER_SIZE'].replace(to_replace = condition_hi,\n",
    "                                value      = 1,\n",
    "                                inplace    = True)\n",
    "\n",
    "apprentice_chef['OUT_LARGEST_ORDER_SIZE'].replace(to_replace = condition_lo,\n",
    "                                    value      = 1,\n",
    "                                    inplace    = True)\n",
    "\n",
    "# MASTER_CLASSES_ATTENDED #\n",
    "\n",
    "apprentice_chef['OUT_MASTER_CLASSES_ATTENDED'] = 0\n",
    "\n",
    "# Creating the condition for outliers #\n",
    "condition_hi = apprentice_chef.loc[0:,'OUT_MASTER_CLASSES_ATTENDED'][apprentice_chef['MASTER_CLASSES_ATTENDED'] \n",
    "                                                                 > MASTER_CLASSES_ATTENDED_hi]\n",
    "\n",
    "apprentice_chef['OUT_MASTER_CLASSES_ATTENDED'].replace(to_replace = condition_hi,\n",
    "                                value      = 1,\n",
    "                                inplace    = True)\n",
    "\n",
    "\n",
    "# AVG_CLICKS_PER_VISIT # \n",
    "\n",
    "apprentice_chef['OUT_AVG_CLICKS_PER_VISIT'] = 0\n",
    "\n",
    "# Creating the condition for outliers #\n",
    "condition_lo = apprentice_chef.loc[0:,'OUT_AVG_CLICKS_PER_VISIT'][apprentice_chef['AVG_CLICKS_PER_VISIT'] \n",
    "                                                                         < AVG_CLICKS_PER_VISIT_lo]                                                                 \n",
    "\n",
    "apprentice_chef['OUT_AVG_CLICKS_PER_VISIT'].replace(to_replace = condition_lo,\n",
    "                                    value      = 1,\n",
    "                                    inplace    = True)\n",
    "\n",
    "# TOTAL_PHOTOS_VIEWED #\n",
    "\n",
    "apprentice_chef['OUT_TOTAL_PHOTOS_VIEWED'] = 0\n",
    "\n",
    "# Creating the condition for outliers #\n",
    "condition_hi = apprentice_chef.loc[0:,'OUT_TOTAL_PHOTOS_VIEWED'][apprentice_chef['TOTAL_PHOTOS_VIEWED']\n",
    "                                                                         > TOTAL_PHOTOS_VIEWED_hi]\n",
    "condition_lo = apprentice_chef.loc[0:,'OUT_TOTAL_PHOTOS_VIEWED'][apprentice_chef['TOTAL_PHOTOS_VIEWED'] \n",
    "                                                                         < TOTAL_PHOTOS_VIEWED_lo]                                                                 \n",
    "\n",
    "apprentice_chef['OUT_TOTAL_PHOTOS_VIEWED'].replace(to_replace = condition_hi,\n",
    "                                value      = 1,\n",
    "                                inplace    = True)\n",
    "\n",
    "apprentice_chef['OUT_TOTAL_PHOTOS_VIEWED'].replace(to_replace = condition_lo,\n",
    "                                    value      = 1,\n",
    "                                    inplace    = True)"
   ]
  },
  {
   "cell_type": "markdown",
   "metadata": {},
   "source": [
    "<strong> 3.4 Dropping categorical variables  "
   ]
  },
  {
   "cell_type": "markdown",
   "metadata": {},
   "source": [
    "The last step for the feature engineering is to drop all of the unnecessary variables; variables that has no added value to the model. This is mostly for the categorical variables but for analysis purpose, I will keep \"NAME\" in the dataset."
   ]
  },
  {
   "cell_type": "markdown",
   "metadata": {},
   "source": [
    "***"
   ]
  },
  {
   "cell_type": "code",
   "execution_count": 21,
   "metadata": {},
   "outputs": [],
   "source": [
    "# Dropping unnecessary variables #\n",
    "\n",
    "apprentice_chef = apprentice_chef.drop('EMAIL', axis = 1)\n",
    "apprentice_chef = apprentice_chef.drop('FIRST_NAME', axis = 1)\n",
    "apprentice_chef = apprentice_chef.drop('FAMILY_NAME', axis = 1)\n",
    "apprentice_chef = apprentice_chef.drop('email_domain', axis = 1)\n",
    "apprentice_chef = apprentice_chef.drop('DOMAIN_GROUP', axis = 1)"
   ]
  },
  {
   "cell_type": "markdown",
   "metadata": {},
   "source": [
    "After dropping all of the unnecessary variables, I will save this dataset to Excel."
   ]
  },
  {
   "cell_type": "code",
   "execution_count": 22,
   "metadata": {},
   "outputs": [],
   "source": [
    "# Saving the dataset into Excel #\n",
    "\n",
    "# apprentice_chef.to_excel('A2_dataset.xlsx')"
   ]
  },
  {
   "cell_type": "markdown",
   "metadata": {},
   "source": [
    "***"
   ]
  },
  {
   "cell_type": "markdown",
   "metadata": {},
   "source": [
    "<strong> 4. Building Classification Model "
   ]
  },
  {
   "cell_type": "markdown",
   "metadata": {},
   "source": [
    "In this stage, I will be creating different classification model using the featured engineered dataset. I will be creating these models:\n",
    "\n",
    "1. Logistic Regression\n",
    "2. Decision Tree\n",
    "3. k-Nearest Neighbors\n",
    "4. Naive Bayes Classifier\n",
    "5. Random Forest\n",
    "\n",
    "But first, I will check the correlation for each of the variables with the target variable \"CROSS_SELL_SUCCESS\""
   ]
  },
  {
   "cell_type": "markdown",
   "metadata": {},
   "source": [
    "***"
   ]
  },
  {
   "cell_type": "code",
   "execution_count": 23,
   "metadata": {},
   "outputs": [],
   "source": [
    "# Correlation for target variable and each explanatory variable #\n",
    "\n",
    "#df_corr = apprentice_chef.corr().round(2)\n",
    "\n",
    "#df_corr['CROSS_SELL_SUCCESS'].sort_values(ascending = False)"
   ]
  },
  {
   "cell_type": "markdown",
   "metadata": {},
   "source": [
    "***"
   ]
  },
  {
   "cell_type": "markdown",
   "metadata": {},
   "source": [
    "<strong> 4.1 Logistic Regression Model"
   ]
  },
  {
   "cell_type": "markdown",
   "metadata": {},
   "source": [
    "***"
   ]
  },
  {
   "cell_type": "markdown",
   "metadata": {},
   "source": [
    "First, I will be creating the logistical regression in sci-kit learn. Before that, I would like to give credit to Professor Chase Kusterer from Hult International Business School that has created the def functio <strong>optimal_neighbors</strong> and <strong> visual_cm </strong> which I will be using in my analysis.\n",
    "\n",
    "For the <strong>optimal_neighbors</strong> def function, it is basically the function to find the optimized number of n is KNN Classifier model. Most of the functions is default and it will also plot the visualization of the 'optimized' number of neighbors.\n",
    "\n",
    "For the <strong> visual_cm </strong>, it is a def function to plot the confusion matrix. "
   ]
  },
  {
   "cell_type": "markdown",
   "metadata": {},
   "source": [
    "***"
   ]
  },
  {
   "cell_type": "code",
   "execution_count": 24,
   "metadata": {},
   "outputs": [],
   "source": [
    "### Optimal neighbors ###\n",
    "\n",
    "def optimal_neighbors(X_data,\n",
    "                      y_data,\n",
    "                      standardize = True,\n",
    "                      pct_test=0.25,\n",
    "                      seed=222,\n",
    "                      response_type='class',\n",
    "                      max_neighbors=20,\n",
    "                      show_viz=True):\n",
    "    \n",
    "    if standardize == True:\n",
    "        # optionally standardizing X_data #\n",
    "        scaler             = StandardScaler()\n",
    "        scaler.fit(X_data)\n",
    "        X_scaled           = scaler.transform(X_data)\n",
    "        X_scaled_df        = pd.DataFrame(X_scaled)\n",
    "        X_data             = X_scaled_df\n",
    "\n",
    "\n",
    "\n",
    "    # train_test_split #\n",
    "    X_train, X_test, y_train, y_test = train_test_split(X_data,\n",
    "                                                        y_data,\n",
    "                                                        test_size = pct_test,\n",
    "                                                        random_state = seed)\n",
    "\n",
    "\n",
    "    # creating lists for training set accuracy and test set accuracy #\n",
    "    training_accuracy = []\n",
    "    test_accuracy = []\n",
    "    \n",
    "    \n",
    "    # setting neighbor range #\n",
    "    neighbors_settings = range(1, max_neighbors + 1)\n",
    "\n",
    "\n",
    "    for n_neighbors in neighbors_settings:\n",
    "        # building the model based on response variable type #\n",
    "        if response_type == 'reg':\n",
    "            clf = KNeighborsRegressor(n_neighbors = n_neighbors)\n",
    "            clf.fit(X_train, y_train)\n",
    "            \n",
    "        elif response_type == 'class':\n",
    "            clf = KNeighborsClassifier(n_neighbors = n_neighbors)\n",
    "            clf.fit(X_train, y_train)            \n",
    "            \n",
    "        else:\n",
    "            print(\"Error: response_type must be 'reg' or 'class'\")\n",
    "        \n",
    "        \n",
    "        # recording the training set accuracy #\n",
    "        training_accuracy.append(clf.score(X_train, y_train))\n",
    "    \n",
    "        # recording the generalization accuracy #\n",
    "        test_accuracy.append(clf.score(X_test, y_test))\n",
    "\n",
    "\n",
    "    # optionally displaying visualization #\n",
    "    if show_viz == True:\n",
    "        # plotting the visualization\n",
    "        fig, ax = plt.subplots(figsize=(12,8))\n",
    "        plt.plot(neighbors_settings, training_accuracy, label = \"training accuracy\")\n",
    "        plt.plot(neighbors_settings, test_accuracy, label = \"test accuracy\")\n",
    "        plt.ylabel(\"Accuracy\")\n",
    "        plt.xlabel(\"n_neighbors\")\n",
    "        plt.legend()\n",
    "        plt.show()\n",
    "    \n",
    "    \n",
    "    # returning optimal number of neighbors #\n",
    "    print(f\"The optimal number of neighbors is: {test_accuracy.index(max(test_accuracy))+1}\")\n",
    "    return test_accuracy.index(max(test_accuracy))+1\n",
    "\n",
    "\n",
    "########################################\n",
    "# visual_cm\n",
    "########################################\n",
    "def visual_cm(true_y, pred_y, labels = None):\n",
    "\n",
    "    # setting labels\n",
    "    lbls = labels\n",
    "    \n",
    "\n",
    "    # declaring a confusion matrix object #\n",
    "    cm = confusion_matrix(y_true = true_y,\n",
    "                          y_pred = pred_y)\n",
    "\n",
    "\n",
    "    # plotting the heatmap #\n",
    "    sns.heatmap(cm,\n",
    "                annot       = True,\n",
    "                xticklabels = lbls,\n",
    "                yticklabels = lbls,\n",
    "                cmap        = 'Reds',\n",
    "                fmt         = 'g')\n",
    "\n",
    "\n",
    "    plt.xlabel('Predicted')\n",
    "    plt.ylabel('Actual')\n",
    "    plt.title('Confusion Matrix of the Classifier')\n",
    "    plt.show()"
   ]
  },
  {
   "cell_type": "markdown",
   "metadata": {},
   "source": [
    "The first step is to create a dictionary on two list: \n",
    "1. Candidate model with the full variables\n",
    "2. Candidate model with the significant variables"
   ]
  },
  {
   "cell_type": "markdown",
   "metadata": {},
   "source": [
    "***"
   ]
  },
  {
   "cell_type": "code",
   "execution_count": 25,
   "metadata": {},
   "outputs": [],
   "source": [
    "# Creating the dictionary for the candidate models #\n",
    "\n",
    "candidate_dict = {\n",
    "\n",
    "# all variables from the full model #\n",
    " 'logit_full'   : ['REVENUE', 'TOTAL_MEALS_ORDERED', 'UNIQUE_MEALS_PURCH','CONTACTS_W_CUSTOMER_SERVICE',\n",
    "                   'PRODUCT_CATEGORIES_VIEWED','AVG_TIME_PER_SITE_VISIT', 'MOBILE_NUMBER', \n",
    "                   'CANCELLATIONS_BEFORE_NOON', 'CANCELLATIONS_AFTER_NOON', 'TASTES_AND_PREFERENCES',\n",
    "                   'MOBILE_LOGINS','PC_LOGINS','WEEKLY_PLAN','EARLY_DELIVERIES','LATE_DELIVERIES',\n",
    "                   'PACKAGE_LOCKER','REFRIGERATED_LOCKER','FOLLOWED_RECOMMENDATIONS_PCT','AVG_PREP_VID_TIME',\n",
    "                   'LARGEST_ORDER_SIZE','MASTER_CLASSES_ATTENDED','MEDIAN_MEAL_RATING','AVG_CLICKS_PER_VISIT',\n",
    "                   'TOTAL_PHOTOS_VIEWED','TOTAL_MEAL_FOLLOWED_RECOMMENDATIONS', \n",
    "                   'TOTAL_MEAL_NOT_FOLLOWED_RECOMMENDATIONS','AVERAGE_MEAL_PRICE_PER_MONTH',\n",
    "                   'AVERAGE_MEAL_ORDERED_PER_MONTH','TOTAL_CANCELLATION','TOTAL_LOGIN','TOTAL_SPECIAL_DELIVERIES',\n",
    "                   'TOTAL_NORMAL_DELIVERIES','AVG_CUSTOMER_ENGAGEMENT', 'junk','personal','professional',\n",
    "                   'VERY_LOW_MEAL_RATING','LOW_MEAL_RATING','NEUTRAL_MEAL_RATING','HIGH_MEAL_RATING',\n",
    "                   'VERY_HIGH_MEAL_RATING', 'OUT_REVENUE', 'OUT_TOTAL_MEALS_ORDERED','OUT_UNIQUE_MEALS_PURCH',\n",
    "                   'OUT_CONTACTS_W_CUSTOMER_SERVICE','OUT_AVG_TIME_PER_SITE_VISIT','OUT_CANCELLATIONS_BEFORE_NOON',\n",
    "                   'OUT_CANCELLATIONS_AFTER_NOON','OUT_EARLY_DELIVERIES', 'OUT_LATE_DELIVERIES', \n",
    "                   'OUT_AVG_PREP_VID_TIME','OUT_LARGEST_ORDER_SIZE','OUT_MASTER_CLASSES_ATTENDED',\n",
    "                   'OUT_AVG_CLICKS_PER_VISIT','OUT_TOTAL_PHOTOS_VIEWED'],\n",
    " \n",
    "# significant variables from the full model #\n",
    " 'logit_sig'    : ['FOLLOWED_RECOMMENDATIONS_PCT' , 'TOTAL_MEAL_FOLLOWED_RECOMMENDATIONS', \n",
    "                   'professional', 'junk', 'OUT_CANCELLATIONS_BEFORE_NOON','CANCELLATIONS_BEFORE_NOON',\n",
    "                   'OUT_TOTAL_MEALS_ORDERED']\n",
    "\n",
    "}"
   ]
  },
  {
   "cell_type": "markdown",
   "metadata": {},
   "source": [
    "After creating the dictionary, I will now build my logistic regression in Scikit-learn using the logit_sig variables."
   ]
  },
  {
   "cell_type": "markdown",
   "metadata": {},
   "source": [
    "***"
   ]
  },
  {
   "cell_type": "code",
   "execution_count": 26,
   "metadata": {},
   "outputs": [
    {
     "name": "stdout",
     "output_type": "stream",
     "text": [
      "Training ACCURACY: 0.7464\n",
      "Testing  ACCURACY: 0.7351\n"
     ]
    }
   ],
   "source": [
    "# train/test split with the significant full model #\n",
    "apprentice_chef_data   =  apprentice_chef.loc[ : , candidate_dict['logit_sig']]\n",
    "apprentice_chef_target =  apprentice_chef.loc[ : , 'CROSS_SELL_SUCCESS']\n",
    "\n",
    "# Creating the default SEED #\n",
    "SEED = 222\n",
    "\n",
    "# Train_test_split the data #\n",
    "X_train, X_test, y_train, y_test = train_test_split(\n",
    "            apprentice_chef_data,\n",
    "            apprentice_chef_target,\n",
    "            test_size    = 0.25,\n",
    "            random_state = SEED,\n",
    "            stratify     = apprentice_chef_target)\n",
    "\n",
    "\n",
    "# Instantiating the logistic regression model #\n",
    "logreg = LogisticRegression(solver = 'lbfgs',\n",
    "                            C = 1,\n",
    "                            random_state = SEED)\n",
    "\n",
    "\n",
    "# Fitting the training data #\n",
    "logreg_fit = logreg.fit(X_train, y_train)\n",
    "\n",
    "\n",
    "# Predicting based on the testing set #\n",
    "logreg_pred = logreg_fit.predict(X_test)\n",
    "\n",
    "\n",
    "# Print the scoring results #\n",
    "print('Training ACCURACY:', logreg_fit.score(X_train, y_train).round(4))\n",
    "print('Testing  ACCURACY:', logreg_fit.score(X_test, y_test).round(4))"
   ]
  },
  {
   "cell_type": "markdown",
   "metadata": {},
   "source": [
    "For this logistic regression, the metric that is used to measure how good the model is accuracy. However, accuracy has some downside. We only measure accuracy from one end. If we predict that only 67% of the customers subscribe to the cross sell promotion, we can only be 67% accurate during the analysis stage which is bad. In this case, confusion matrix is the tool that is more appropriate for measuring classification model performance."
   ]
  },
  {
   "cell_type": "markdown",
   "metadata": {},
   "source": [
    "This is an illustration of the confusion matrix based on the analysis context:\n",
    "\n",
    "~~~  \n",
    "  True Positives                                        False Positives \n",
    "  PREDICTED: Subscriber (CROSS_SELL_SUCCESS = 1)     |  PREDICTED: Non-subscriber (CROSS_SELL_SUCCESS = 0)\n",
    "  ACTUAL:    Subscriber (CROSS_SELL_SUCCESS = 1)     |  ACTUAL:    Subscriber     (CROSS_SELL_SUCCESS = 1)\n",
    "                                                     |\n",
    "  ---------------------------------------------------|----------------------------------------------------\n",
    "                                                     |  \n",
    "  False Negatives                                    |  True Negatives\n",
    "  PREDICTED: Subscriber     (CROSS_SELL_SUCCESS = 1) |  PREDICTED: Non-subscriber (CROSS_SELL_SUCCESS = 0)\n",
    "  ACTUAL:    Non-subscriber (CROSS_SELL_SUCCESS = 0) |  ACTUAL:    Non-subscriber (CROSS_SELL_SUCCESS = 0)\n",
    "  \n",
    "~~~"
   ]
  },
  {
   "cell_type": "markdown",
   "metadata": {},
   "source": [
    "***"
   ]
  },
  {
   "cell_type": "code",
   "execution_count": 27,
   "metadata": {},
   "outputs": [],
   "source": [
    "# # Creating the confusion matrix #\n",
    "\n",
    "# print(confusion_matrix(y_true = y_test,\n",
    "#                        y_pred = logreg_pred))\n",
    "\n",
    "# # Visualizing the confusion matrix using the visual_cm def function #\n",
    "# visual_cm(true_y = y_test,\n",
    "#           pred_y = logreg_pred,\n",
    "#           labels = ['Subscriber', 'Non-subscriber'])"
   ]
  },
  {
   "cell_type": "markdown",
   "metadata": {},
   "source": [
    "The other most common metrics that is used to measure classification models is the area under the curve (AUC). The AUC takes into account on both sensitivity and specificity. Sensitivity is the measurement of the proportion of correctly identified values that are positive. Specificity is the measurement of the proportion of correctly identified values that are negatives. In our final model, I would like to showcase the model's training accuracy, testing accuracy and AUC value."
   ]
  },
  {
   "cell_type": "markdown",
   "metadata": {},
   "source": [
    "***"
   ]
  },
  {
   "cell_type": "code",
   "execution_count": 28,
   "metadata": {},
   "outputs": [],
   "source": [
    "# # Calculating the AUC curve #\n",
    "# roc_auc_score(y_true  = y_test,\n",
    "#               y_score = logreg_pred)"
   ]
  },
  {
   "cell_type": "markdown",
   "metadata": {},
   "source": [
    "I will be creating a code that would let me save each model's performance for my final results."
   ]
  },
  {
   "cell_type": "markdown",
   "metadata": {},
   "source": [
    "***"
   ]
  },
  {
   "cell_type": "code",
   "execution_count": 29,
   "metadata": {},
   "outputs": [
    {
     "name": "stdout",
     "output_type": "stream",
     "text": [
      "['Model', 'Training Accuracy', 'Testing Accuracy', 'AUC Value']\n",
      "['Logistic Regression', 0.7464, 0.7351, 0.6916]\n"
     ]
    }
   ],
   "source": [
    "# creating an empty list #\n",
    "model_performance = [['Model', 'Training Accuracy',\n",
    "                      'Testing Accuracy', 'AUC Value']]\n",
    "\n",
    "\n",
    "# train accuracy #\n",
    "logreg_train_acc  = logreg_fit.score(X_train, y_train).round(4)\n",
    "\n",
    "\n",
    "# test accuracy #\n",
    "logreg_test_acc   = logreg_fit.score(X_test, y_test).round(4)\n",
    "\n",
    "\n",
    "# auc value #\n",
    "logreg_auc = roc_auc_score(y_true  = y_test,\n",
    "                           y_score = logreg_pred).round(4)\n",
    "\n",
    "\n",
    "# saving the results #\n",
    "model_performance.append(['Logistic Regression',\n",
    "                          logreg_train_acc,\n",
    "                          logreg_test_acc,\n",
    "                          logreg_auc])\n",
    "\n",
    "\n",
    "# printing the results #\n",
    "for model in model_performance:\n",
    "    print(model)"
   ]
  },
  {
   "cell_type": "markdown",
   "metadata": {},
   "source": [
    "***"
   ]
  },
  {
   "cell_type": "markdown",
   "metadata": {},
   "source": [
    "<strong> 4.2 KNN Classification Model"
   ]
  },
  {
   "cell_type": "markdown",
   "metadata": {},
   "source": [
    "***"
   ]
  },
  {
   "cell_type": "markdown",
   "metadata": {},
   "source": [
    "The second mode that I would do is the k-Nearest Neighbors(KNN). For the KNN classification model, I would like to scale my explanatory variables and I would also like to identify the optimal number of the neighbors using the <strong> optimal_neighbors </strong>."
   ]
  },
  {
   "cell_type": "code",
   "execution_count": 30,
   "metadata": {},
   "outputs": [
    {
     "data": {
      "image/png": "[encoded data removed]",
      "text/plain": [
       "<Figure size 864x576 with 1 Axes>"
      ]
     },
     "metadata": {
      "needs_background": "light"
     },
     "output_type": "display_data"
    },
    {
     "name": "stdout",
     "output_type": "stream",
     "text": [
      "The optimal number of neighbors is: 18\n"
     ]
    }
   ],
   "source": [
    "# Plotting the optimal number for neighbors #\n",
    "\n",
    "opt_neighbors = optimal_neighbors(X_data = X_train,\n",
    "                                 y_data = y_train)"
   ]
  },
  {
   "cell_type": "markdown",
   "metadata": {},
   "source": [
    "***"
   ]
  },
  {
   "cell_type": "code",
   "execution_count": 31,
   "metadata": {},
   "outputs": [
    {
     "name": "stdout",
     "output_type": "stream",
     "text": [
      "Training ACCURACY: 0.6765\n",
      "Testing  ACCURACY: 0.6797\n",
      "AUC Score        : 0.6916\n"
     ]
    }
   ],
   "source": [
    "### Scaling the explanatory variable and building the KNN classification model ###\n",
    "\n",
    "# Instantiating the  StandardScaler() #\n",
    "scaler = StandardScaler()\n",
    "\n",
    "# Fitting the data #\n",
    "scaler.fit(apprentice_chef_data)\n",
    "\n",
    "# Transforming the data #\n",
    "X_scaled = scaler.transform(apprentice_chef_data)\n",
    "\n",
    "# converting the X_scaled into a DataFrame #\n",
    "X_scaled_df = pd.DataFrame(X_scaled) \n",
    "\n",
    "# train_test_split of the scaled data #\n",
    "X_train_scaled, X_test_scaled, y_train_scaled, y_test_scaled = train_test_split(\n",
    "            X_scaled_df,\n",
    "            apprentice_chef_target,\n",
    "            random_state = SEED,\n",
    "            test_size = 0.25,\n",
    "            stratify = apprentice_chef_target)\n",
    "\n",
    "# instantiating a KNN classification model with optimal neighbors #\n",
    "knn_opt = KNeighborsClassifier(n_neighbors = opt_neighbors)\n",
    "\n",
    "# fitting the training data #\n",
    "knn_fit = knn_opt.fit(X_train_scaled, y_train_scaled)\n",
    "\n",
    "# predicting based on the testing set #\n",
    "knn_pred = knn_fit.predict(X_test)\n",
    "\n",
    "\n",
    "# printing the results #\n",
    "print('Training ACCURACY:', knn_opt.score(X_train, y_train).round(4))\n",
    "print('Testing  ACCURACY:', knn_opt.score(X_test, y_test).round(4))\n",
    "print('AUC Score        :', roc_auc_score(y_true  = y_test,\n",
    "                                          y_score = logreg_pred).round(4))"
   ]
  },
  {
   "cell_type": "markdown",
   "metadata": {},
   "source": [
    "After I got the result for the KNN classification model, I will be saving the result on the model performance that I created before."
   ]
  },
  {
   "cell_type": "markdown",
   "metadata": {},
   "source": [
    "***"
   ]
  },
  {
   "cell_type": "code",
   "execution_count": 32,
   "metadata": {},
   "outputs": [
    {
     "name": "stdout",
     "output_type": "stream",
     "text": [
      "['Model', 'Training Accuracy', 'Testing Accuracy', 'AUC Value']\n",
      "['Logistic Regression', 0.7464, 0.7351, 0.6916]\n",
      "['KNN Classification', 0.8019, 0.7864, 0.5017]\n"
     ]
    }
   ],
   "source": [
    "# train accuracy for KNN #\n",
    "knn_train_acc = knn_fit.score(X_train_scaled, y_train_scaled).round(4)\n",
    "\n",
    "\n",
    "# test accuracy for KNN #\n",
    "knn_test_acc  = knn_fit.score(X_test_scaled, y_test_scaled).round(4)\n",
    "\n",
    "\n",
    "# auc value for KNN #\n",
    "knn_auc       = roc_auc_score(y_true  = y_test_scaled,\n",
    "                              y_score = knn_pred).round(4)\n",
    "\n",
    "\n",
    "# saving the results #\n",
    "model_performance.append(['KNN Classification',\n",
    "                          knn_train_acc,\n",
    "                          knn_test_acc,\n",
    "                          knn_auc])\n",
    "\n",
    "\n",
    "# printing the results #\n",
    "for model in model_performance:\n",
    "    print(model)"
   ]
  },
  {
   "cell_type": "markdown",
   "metadata": {},
   "source": [
    "***"
   ]
  },
  {
   "cell_type": "markdown",
   "metadata": {},
   "source": [
    "<strong> 4.3 Classification Trees (CART Models)"
   ]
  },
  {
   "cell_type": "markdown",
   "metadata": {},
   "source": [
    "***"
   ]
  },
  {
   "cell_type": "markdown",
   "metadata": {},
   "source": [
    "I will be creating the CART model or simply known as the decision trees or classification trees. The advantage of a CART model is that it is easy to interpret so it is really useful model for analysis and insights. However, it is also known for its bad prediction metric so it is a bad model for predictive analysis. For this model, I would like to give credit Professor Chase Kusterer from Hult International Business School for creating the def function <strong> plot_feature_importances </strong> that I will be using for this analysis."
   ]
  },
  {
   "cell_type": "markdown",
   "metadata": {},
   "source": [
    "***"
   ]
  },
  {
   "cell_type": "code",
   "execution_count": 33,
   "metadata": {},
   "outputs": [],
   "source": [
    "# plot_feature_importances #\n",
    "\n",
    "def plot_feature_importances(model, train, export = False):\n",
    "\n",
    "# declaring the number\n",
    "    n_features = X_train.shape[1]\n",
    "    \n",
    "# setting plot window #\n",
    "    fig, ax = plt.subplots(figsize=(12,9))\n",
    "    \n",
    "    plt.barh(range(n_features), model.feature_importances_, align='center')\n",
    "    plt.yticks(pd.np.arange(n_features), train.columns)\n",
    "    plt.xlabel(\"Feature importance\")\n",
    "    plt.ylabel(\"Feature\")\n",
    "    \n",
    "    if export == True:\n",
    "        plt.savefig('Tree_Leaf_50_Feature_Importance.png')"
   ]
  },
  {
   "cell_type": "markdown",
   "metadata": {},
   "source": [
    "For the CART model, I will be making two models: Full Tree and Pruned Tree. The Full Tree is the model with default settings while the Pruned Tree's setting will be tuned. I will be creating the Full Tree model first"
   ]
  },
  {
   "cell_type": "markdown",
   "metadata": {},
   "source": [
    "***"
   ]
  },
  {
   "cell_type": "code",
   "execution_count": 34,
   "metadata": {},
   "outputs": [
    {
     "name": "stdout",
     "output_type": "stream",
     "text": [
      "Training ACCURACY: 0.8986\n",
      "Testing  ACCURACY: 0.7741\n",
      "AUC Score        : 0.761\n"
     ]
    }
   ],
   "source": [
    "# instantiating a classification tree object #\n",
    "full_tree = DecisionTreeClassifier()\n",
    "\n",
    "\n",
    "# fitting the training data #\n",
    "full_tree_fit = full_tree.fit(X_train, y_train)\n",
    "\n",
    "\n",
    "# predicting on new data #\n",
    "full_tree_pred = full_tree_fit.predict(X_test)\n",
    "\n",
    "\n",
    "# printing the model #\n",
    "print('Training ACCURACY:', full_tree_fit.score(X_train, y_train).round(4))\n",
    "print('Testing  ACCURACY:', full_tree_fit.score(X_test, y_test).round(4))\n",
    "print('AUC Score        :', roc_auc_score(y_true  = y_test,\n",
    "                                          y_score = full_tree_pred).round(4))"
   ]
  },
  {
   "cell_type": "markdown",
   "metadata": {},
   "source": [
    "I will add the result from the Full Tree model into our model performance list."
   ]
  },
  {
   "cell_type": "markdown",
   "metadata": {},
   "source": [
    "***"
   ]
  },
  {
   "cell_type": "code",
   "execution_count": 35,
   "metadata": {},
   "outputs": [
    {
     "name": "stdout",
     "output_type": "stream",
     "text": [
      "['Model', 'Training Accuracy', 'Testing Accuracy', 'AUC Value']\n",
      "['Logistic Regression', 0.7464, 0.7351, 0.6916]\n",
      "['KNN Classification', 0.8019, 0.7864, 0.5017]\n",
      "['Full Tree', 0.8986, 0.7741, 0.761]\n"
     ]
    }
   ],
   "source": [
    "# train accuracy #\n",
    "full_tree_train_acc = full_tree_fit.score(X_train, y_train).round(4)\n",
    "\n",
    "\n",
    "# test accuracy #\n",
    "full_tree_test_acc  = full_tree_fit.score(X_test, y_test).round(4)\n",
    "\n",
    "\n",
    "# auc value #\n",
    "full_tree_auc       = roc_auc_score(y_true  = y_test,\n",
    "                                    y_score = full_tree_pred).round(4)\n",
    "\n",
    "\n",
    "# saving the results #\n",
    "model_performance.append(['Full Tree',\n",
    "                          full_tree_train_acc,\n",
    "                          full_tree_test_acc,\n",
    "                          full_tree_auc])\n",
    "\n",
    "\n",
    "# printing the results #\n",
    "for model in model_performance:\n",
    "    print(model)"
   ]
  },
  {
   "cell_type": "markdown",
   "metadata": {},
   "source": [
    "Now I will be creating the Pruned Tree model"
   ]
  },
  {
   "cell_type": "markdown",
   "metadata": {},
   "source": [
    "***"
   ]
  },
  {
   "cell_type": "code",
   "execution_count": 36,
   "metadata": {},
   "outputs": [
    {
     "name": "stdout",
     "output_type": "stream",
     "text": [
      "Training ACCURACY: 0.7923\n",
      "Testing  ACCURACY: 0.809\n",
      "AUC Score        : 0.7883\n"
     ]
    }
   ],
   "source": [
    "# instantiating a classification tree object #\n",
    "tree_pruned      = DecisionTreeClassifier(max_depth = 4,\n",
    "                                          min_samples_leaf = 25,\n",
    "                                          random_state = SEED)\n",
    "\n",
    "\n",
    "# fitting the training data #\n",
    "tree_pruned_fit  = tree_pruned.fit(X_train, y_train)\n",
    "\n",
    "\n",
    "# predicting on new data #\n",
    "tree_pruned_pred = tree_pruned_fit.predict(X_test)\n",
    "\n",
    "\n",
    "# Printing the model #\n",
    "print('Training ACCURACY:', tree_pruned_fit.score(X_train, y_train).round(4))\n",
    "print('Testing  ACCURACY:', tree_pruned_fit.score(X_test, y_test).round(4))\n",
    "print('AUC Score        :', roc_auc_score(y_true  = y_test,\n",
    "                                          y_score = tree_pruned_pred).round(4))"
   ]
  },
  {
   "cell_type": "markdown",
   "metadata": {},
   "source": [
    "I will add the Pruned Tree model into our list. To make it more appealing, I would put the results into a DataFrame"
   ]
  },
  {
   "cell_type": "markdown",
   "metadata": {},
   "source": [
    "***"
   ]
  },
  {
   "cell_type": "code",
   "execution_count": 37,
   "metadata": {},
   "outputs": [],
   "source": [
    "# train accuracy #\n",
    "p_tree_train_acc = tree_pruned_fit.score(X_train, y_train).round(4)\n",
    "\n",
    "\n",
    "# test accuracy #\n",
    "p_tree_test_acc  = tree_pruned_fit.score(X_test, y_test).round(4)\n",
    "\n",
    "\n",
    "# auc value #\n",
    "p_tree_auc       = roc_auc_score(y_true  = y_test,\n",
    "                                 y_score = tree_pruned_pred).round(4)\n",
    "\n",
    "\n",
    "# saving the results #\n",
    "model_performance.append(['Pruned Tree',\n",
    "                          p_tree_train_acc,\n",
    "                          p_tree_test_acc,\n",
    "                          p_tree_auc])\n",
    "\n",
    "\n",
    "# converting to DataFrame and checking the results #\n",
    "model_performance = pd.DataFrame(model_performance[1:], columns = model_performance[0])"
   ]
  },
  {
   "cell_type": "markdown",
   "metadata": {},
   "source": [
    "One of the advantage of CART model is that it can help me evaluate each of the variable's performance towards the model. It would help me on picking on the important features. "
   ]
  },
  {
   "cell_type": "markdown",
   "metadata": {},
   "source": [
    "***"
   ]
  },
  {
   "cell_type": "code",
   "execution_count": 38,
   "metadata": {},
   "outputs": [],
   "source": [
    "# # plotting feature importance\n",
    "# plot_feature_importances(tree_pruned_fit,\n",
    "#                          train = X_train,\n",
    "#                          export = False)"
   ]
  },
  {
   "cell_type": "markdown",
   "metadata": {},
   "source": [
    "As we can see here, TOTAL_MEAL_NOT_FOLLOWED_RECOMMENDATIONS and TOTAL_CANCELLATION is not important at all so if I want to change my significant candidate model, I could drop this variable and evaluate the changes."
   ]
  },
  {
   "cell_type": "markdown",
   "metadata": {},
   "source": [
    "<strong> 4.4 Hyperparameter Tuning Model"
   ]
  },
  {
   "cell_type": "markdown",
   "metadata": {},
   "source": [
    "For my 4th model, I will be using the hyperparameter tuning method to tuned the Logistic Regression model and the CART model. The purpose of hyperparameter tuning is to boost the score for the training accuracy, testing accuracy and auc value. "
   ]
  },
  {
   "cell_type": "markdown",
   "metadata": {},
   "source": [
    "<strong> 4.4.1 Tuned Logistic Regression"
   ]
  },
  {
   "cell_type": "markdown",
   "metadata": {},
   "source": [
    "In order to do hyperparameter tuning, I need to create the grid of the hyperparameter first and then run the train_test_split function. I will be using the GridSearchCV to find the optimal score."
   ]
  },
  {
   "cell_type": "markdown",
   "metadata": {},
   "source": [
    "***"
   ]
  },
  {
   "cell_type": "code",
   "execution_count": 39,
   "metadata": {},
   "outputs": [],
   "source": [
    "# ### GridSearchCV ###\n",
    "\n",
    "# # declaring a hyperparameter space\n",
    "# C_space          = pd.np.arange(10.0, 20.0, 5.0)\n",
    "# warm_start_space = [True, False]\n",
    "\n",
    "\n",
    "# # creating a hyperparameter grid\n",
    "# param_grid = {'C'          : C_space,\n",
    "#               'warm_start' : warm_start_space}\n",
    "\n",
    "\n",
    "# # INSTANTIATING the model object without hyperparameters\n",
    "# lr_tuned = LogisticRegression(solver = 'lbfgs',\n",
    "#                               max_iter = 1000,\n",
    "#                               random_state = SEED)\n",
    "\n",
    "\n",
    "# # GridSearchCV object\n",
    "# lr_tuned_cv = GridSearchCV(estimator  = lr_tuned,\n",
    "#                            param_grid = param_grid,\n",
    "#                            cv         = 5,\n",
    "#                            scoring    = make_scorer(roc_auc_score,\n",
    "#                                                     needs_threshold = False))\n",
    "\n",
    "\n",
    "# # FITTING to the FULL DATASET (due to cross-validation)\n",
    "# lr_tuned_cv.fit(apprentice_chef_data, apprentice_chef_target)\n",
    "\n",
    "\n",
    "# # printing the optimal parameters and best score\n",
    "# print(\"Tuned Parameters  :\", lr_tuned_cv.best_params_)\n",
    "# print(\"Tuned CV AUC      :\", lr_tuned_cv.best_score_.round(4))"
   ]
  },
  {
   "cell_type": "markdown",
   "metadata": {},
   "source": [
    "I would like to find the best parameter for the logistic regression. To do this, I would simply run the best_estimator_ code and it will show me the requirements for the logistic regression function."
   ]
  },
  {
   "cell_type": "markdown",
   "metadata": {},
   "source": [
    "***"
   ]
  },
  {
   "cell_type": "code",
   "execution_count": 40,
   "metadata": {},
   "outputs": [
    {
     "name": "stdout",
     "output_type": "stream",
     "text": [
      "Training ACCURACY: 0.7464\n",
      "Testing  ACCURACY: 0.7331\n",
      "AUC Score        : 0.6867\n"
     ]
    }
   ],
   "source": [
    "# Instantiating the logistic regression model #\n",
    "lr_tuned = LogisticRegression(solver = 'lbfgs',\n",
    "                            C = 10,\n",
    "                            warm_start = True,\n",
    "                            random_state = SEED)\n",
    "\n",
    "\n",
    "# Fitting the training data #\n",
    "lr_tuned_fit = lr_tuned.fit(X_train, y_train)\n",
    "\n",
    "\n",
    "# Predicting based on the testing set #\n",
    "lr_tuned_pred = lr_tuned_fit.predict(X_test)\n",
    "\n",
    "\n",
    "# Print the scoring results #\n",
    "print('Training ACCURACY:', lr_tuned.score(X_train, y_train).round(4))\n",
    "print('Testing  ACCURACY:', lr_tuned.score(X_test, y_test).round(4))\n",
    "print('AUC Score        :', roc_auc_score(y_true  = y_test,\n",
    "                                  y_score = lr_tuned_pred).round(4))"
   ]
  },
  {
   "cell_type": "markdown",
   "metadata": {},
   "source": [
    "I will be saving the tuned Logistic Regression result on the model performance dataframe"
   ]
  },
  {
   "cell_type": "markdown",
   "metadata": {},
   "source": [
    "***"
   ]
  },
  {
   "cell_type": "code",
   "execution_count": 41,
   "metadata": {},
   "outputs": [
    {
     "data": {
      "text/html": [
       "<div>\n",
       "<style scoped>\n",
       "    .dataframe tbody tr th:only-of-type {\n",
       "        vertical-align: middle;\n",
       "    }\n",
       "\n",
       "    .dataframe tbody tr th {\n",
       "        vertical-align: top;\n",
       "    }\n",
       "\n",
       "    .dataframe thead th {\n",
       "        text-align: right;\n",
       "    }\n",
       "</style>\n",
       "<table border=\"1\" class=\"dataframe\">\n",
       "  <thead>\n",
       "    <tr style=\"text-align: right;\">\n",
       "      <th></th>\n",
       "      <th>Model</th>\n",
       "      <th>Training Accuracy</th>\n",
       "      <th>Testing Accuracy</th>\n",
       "      <th>AUC Value</th>\n",
       "    </tr>\n",
       "  </thead>\n",
       "  <tbody>\n",
       "    <tr>\n",
       "      <th>0</th>\n",
       "      <td>Logistic Regression</td>\n",
       "      <td>0.7464</td>\n",
       "      <td>0.7351</td>\n",
       "      <td>0.6916</td>\n",
       "    </tr>\n",
       "    <tr>\n",
       "      <th>1</th>\n",
       "      <td>KNN Classification</td>\n",
       "      <td>0.8019</td>\n",
       "      <td>0.7864</td>\n",
       "      <td>0.5017</td>\n",
       "    </tr>\n",
       "    <tr>\n",
       "      <th>2</th>\n",
       "      <td>Full Tree</td>\n",
       "      <td>0.8986</td>\n",
       "      <td>0.7741</td>\n",
       "      <td>0.7610</td>\n",
       "    </tr>\n",
       "    <tr>\n",
       "      <th>3</th>\n",
       "      <td>Pruned Tree</td>\n",
       "      <td>0.7923</td>\n",
       "      <td>0.8090</td>\n",
       "      <td>0.7883</td>\n",
       "    </tr>\n",
       "    <tr>\n",
       "      <th>4</th>\n",
       "      <td>Tuned LR</td>\n",
       "      <td>0.7464</td>\n",
       "      <td>0.7331</td>\n",
       "      <td>0.6867</td>\n",
       "    </tr>\n",
       "  </tbody>\n",
       "</table>\n",
       "</div>"
      ],
      "text/plain": [
       "                 Model  Training Accuracy  Testing Accuracy  AUC Value\n",
       "0  Logistic Regression             0.7464            0.7351     0.6916\n",
       "1   KNN Classification             0.8019            0.7864     0.5017\n",
       "2            Full Tree             0.8986            0.7741     0.7610\n",
       "3          Pruned Tree             0.7923            0.8090     0.7883\n",
       "4             Tuned LR             0.7464            0.7331     0.6867"
      ]
     },
     "execution_count": 41,
     "metadata": {},
     "output_type": "execute_result"
    }
   ],
   "source": [
    "# declaring model performance objects #\n",
    "lr_train_acc = lr_tuned.score(X_train, y_train).round(4)\n",
    "lr_test_acc  = lr_tuned.score(X_test, y_test).round(4)\n",
    "lr_auc       = roc_auc_score(y_true  = y_test,\n",
    "                             y_score = lr_tuned_pred).round(4)\n",
    "\n",
    "\n",
    "# appending tuned LR to model_performance #\n",
    "model_performance = model_performance.append(\n",
    "                          {'Model'             : 'Tuned LR',\n",
    "                          'Training Accuracy'  : lr_train_acc,\n",
    "                          'Testing Accuracy'   : lr_test_acc,\n",
    "                          'AUC Value'          : lr_auc},\n",
    "                          ignore_index = True)\n",
    "\n",
    "\n",
    "# printing the results #\n",
    "model_performance"
   ]
  },
  {
   "cell_type": "markdown",
   "metadata": {},
   "source": [
    "<strong> 4.4.2 Tuned Classification Tree"
   ]
  },
  {
   "cell_type": "markdown",
   "metadata": {},
   "source": [
    "Similar to the tuned logistic regression, I would now do hyperparameter tuning for my classification trees."
   ]
  },
  {
   "cell_type": "markdown",
   "metadata": {},
   "source": [
    "***"
   ]
  },
  {
   "cell_type": "code",
   "execution_count": 42,
   "metadata": {},
   "outputs": [],
   "source": [
    "# # declaring a hyperparameter space\n",
    "# criterion_space = ['gini', 'entropy']\n",
    "# splitter_space = ['best', 'random']\n",
    "# depth_space = pd.np.arange(1, 25)\n",
    "# leaf_space  = pd.np.arange(1, 100)\n",
    "\n",
    "\n",
    "# # creating a hyperparameter grid\n",
    "# param_grid = {'criterion'        : criterion_space,\n",
    "#               'splitter'         : splitter_space,\n",
    "#               'max_depth'        : depth_space,\n",
    "#               'min_samples_leaf' : leaf_space}\n",
    "\n",
    "\n",
    "# # INSTANTIATING the model object without hyperparameters\n",
    "# tuned_tree = DecisionTreeClassifier(random_state = SEED)\n",
    "\n",
    "\n",
    "# # GridSearchCV object\n",
    "# tuned_tree_cv = GridSearchCV(estimator  = tuned_tree,\n",
    "#                              param_grid = param_grid,\n",
    "#                              cv         = 3,\n",
    "#                              scoring    = make_scorer(roc_auc_score,\n",
    "#                                                       needs_threshold = False))\n",
    "\n",
    "\n",
    "# # FITTING to the FULL DATASET (due to cross-validation)\n",
    "# tuned_tree_cv.fit(apprentice_chef_data, apprentice_chef_target)\n",
    "\n",
    "\n",
    "# # PREDICT step is not needed\n",
    "\n",
    "\n",
    "# # printing the optimal parameters and best score\n",
    "# print(\"Tuned Parameters  :\", tuned_tree_cv.best_params_)\n",
    "# print(\"Tuned Training AUC:\", tuned_tree_cv.best_score_.round(4))"
   ]
  },
  {
   "cell_type": "markdown",
   "metadata": {},
   "source": [
    "I will now fit the best estimator parameter to my tuned tree model"
   ]
  },
  {
   "cell_type": "markdown",
   "metadata": {},
   "source": [
    "***"
   ]
  },
  {
   "cell_type": "code",
   "execution_count": 43,
   "metadata": {},
   "outputs": [
    {
     "name": "stdout",
     "output_type": "stream",
     "text": [
      "Training ACCURACY: 0.7923\n",
      "Testing  ACCURACY: 0.809\n",
      "AUC Score        : 0.784\n"
     ]
    }
   ],
   "source": [
    "# Instantiating a classification tree object #\n",
    "tuned_tree    = DecisionTreeClassifier(max_depth = 1,\n",
    "                                          criterion = 'gini',\n",
    "                                          min_samples_leaf = 1,\n",
    "                                          splitter = 'best')\n",
    "\n",
    "\n",
    "# fitting the training data #\n",
    "tuned_tree_fit  = tuned_tree.fit(X_train, y_train)\n",
    "\n",
    "\n",
    "# predicting on new data #\n",
    "tuned_tree_pred = tuned_tree_fit.predict(X_test)\n",
    "\n",
    "\n",
    "# printing the model #\n",
    "print('Training ACCURACY:', tree_pruned_fit.score(X_train, y_train).round(4))\n",
    "print('Testing  ACCURACY:', tree_pruned_fit.score(X_test, y_test).round(4))\n",
    "print('AUC Score        :', roc_auc_score(y_true  = y_test,\n",
    "                                          y_score = tuned_tree_pred).round(4))"
   ]
  },
  {
   "cell_type": "markdown",
   "metadata": {},
   "source": [
    "I will add the result to the model performance dataframe"
   ]
  },
  {
   "cell_type": "markdown",
   "metadata": {},
   "source": [
    "***"
   ]
  },
  {
   "cell_type": "code",
   "execution_count": 44,
   "metadata": {},
   "outputs": [
    {
     "data": {
      "text/html": [
       "<div>\n",
       "<style scoped>\n",
       "    .dataframe tbody tr th:only-of-type {\n",
       "        vertical-align: middle;\n",
       "    }\n",
       "\n",
       "    .dataframe tbody tr th {\n",
       "        vertical-align: top;\n",
       "    }\n",
       "\n",
       "    .dataframe thead th {\n",
       "        text-align: right;\n",
       "    }\n",
       "</style>\n",
       "<table border=\"1\" class=\"dataframe\">\n",
       "  <thead>\n",
       "    <tr style=\"text-align: right;\">\n",
       "      <th></th>\n",
       "      <th>Model</th>\n",
       "      <th>Training Accuracy</th>\n",
       "      <th>Testing Accuracy</th>\n",
       "      <th>AUC Value</th>\n",
       "    </tr>\n",
       "  </thead>\n",
       "  <tbody>\n",
       "    <tr>\n",
       "      <th>0</th>\n",
       "      <td>Logistic Regression</td>\n",
       "      <td>0.7464</td>\n",
       "      <td>0.7351</td>\n",
       "      <td>0.6916</td>\n",
       "    </tr>\n",
       "    <tr>\n",
       "      <th>1</th>\n",
       "      <td>KNN Classification</td>\n",
       "      <td>0.8019</td>\n",
       "      <td>0.7864</td>\n",
       "      <td>0.5017</td>\n",
       "    </tr>\n",
       "    <tr>\n",
       "      <th>2</th>\n",
       "      <td>Full Tree</td>\n",
       "      <td>0.8986</td>\n",
       "      <td>0.7741</td>\n",
       "      <td>0.7610</td>\n",
       "    </tr>\n",
       "    <tr>\n",
       "      <th>3</th>\n",
       "      <td>Pruned Tree</td>\n",
       "      <td>0.7923</td>\n",
       "      <td>0.8090</td>\n",
       "      <td>0.7883</td>\n",
       "    </tr>\n",
       "    <tr>\n",
       "      <th>4</th>\n",
       "      <td>Tuned LR</td>\n",
       "      <td>0.7464</td>\n",
       "      <td>0.7331</td>\n",
       "      <td>0.6867</td>\n",
       "    </tr>\n",
       "    <tr>\n",
       "      <th>5</th>\n",
       "      <td>Tuned Tree</td>\n",
       "      <td>0.7300</td>\n",
       "      <td>0.7064</td>\n",
       "      <td>0.7840</td>\n",
       "    </tr>\n",
       "  </tbody>\n",
       "</table>\n",
       "</div>"
      ],
      "text/plain": [
       "                 Model  Training Accuracy  Testing Accuracy  AUC Value\n",
       "0  Logistic Regression             0.7464            0.7351     0.6916\n",
       "1   KNN Classification             0.8019            0.7864     0.5017\n",
       "2            Full Tree             0.8986            0.7741     0.7610\n",
       "3          Pruned Tree             0.7923            0.8090     0.7883\n",
       "4             Tuned LR             0.7464            0.7331     0.6867\n",
       "5           Tuned Tree             0.7300            0.7064     0.7840"
      ]
     },
     "execution_count": 44,
     "metadata": {},
     "output_type": "execute_result"
    }
   ],
   "source": [
    "# declaring model performance objects #\n",
    "tree_train_acc = tuned_tree.score(X_train, y_train).round(4)\n",
    "tree_test_acc  = tuned_tree.score(X_test, y_test).round(4)\n",
    "tree_auc       = roc_auc_score(y_true  = y_test,\n",
    "                              y_score = tuned_tree_pred).round(4)\n",
    "\n",
    "\n",
    "# appending tuned tree to model_performance #\n",
    "model_performance = model_performance.append(\n",
    "                          {'Model'             : 'Tuned Tree',\n",
    "                          'Training Accuracy'  : tree_train_acc,\n",
    "                          'Testing Accuracy'   : tree_test_acc,\n",
    "                          'AUC Value'          : tree_auc},\n",
    "                          ignore_index = True)\n",
    "\n",
    "\n",
    "# printing the results #\n",
    "model_performance"
   ]
  },
  {
   "cell_type": "markdown",
   "metadata": {},
   "source": [
    "<strong> 4.5 Random Forest"
   ]
  },
  {
   "cell_type": "markdown",
   "metadata": {},
   "source": [
    "Random forest model is an ensemble learning method where it creates different decision tree and takes the mode of the entire result which will results in a more accurate prediction. For this model, I will be using my logit_sig variables which has all of my significant variables and my logit_full which is the all of the variables in my dataset. "
   ]
  },
  {
   "cell_type": "markdown",
   "metadata": {},
   "source": [
    "I will do the logit_sig model first"
   ]
  },
  {
   "cell_type": "markdown",
   "metadata": {},
   "source": [
    "***"
   ]
  },
  {
   "cell_type": "code",
   "execution_count": 45,
   "metadata": {},
   "outputs": [],
   "source": [
    "# train_test_split with the logit_sig variables #\n",
    "apprentice_chef_data   =  apprentice_chef.loc[ : , candidate_dict['logit_sig']]\n",
    "apprentice_chef_target =  apprentice_chef.loc[ : , 'CROSS_SELL_SUCCESS']\n",
    "\n",
    " \n",
    "# train_test_split #\n",
    "X_train, X_test, y_train, y_test = train_test_split(\n",
    "            apprentice_chef_data,\n",
    "            apprentice_chef_target,\n",
    "            random_state = SEED,\n",
    "            test_size    = 0.25,\n",
    "            stratify     = apprentice_chef_target)"
   ]
  },
  {
   "cell_type": "markdown",
   "metadata": {},
   "source": [
    "I will instantiate the default random forest model "
   ]
  },
  {
   "cell_type": "markdown",
   "metadata": {},
   "source": [
    "***"
   ]
  },
  {
   "cell_type": "code",
   "execution_count": 46,
   "metadata": {},
   "outputs": [
    {
     "name": "stdout",
     "output_type": "stream",
     "text": [
      "Training ACCURACY: 0.891\n",
      "Testing  ACCURACY: 0.7762\n",
      "AUC Score        : 0.7608\n"
     ]
    }
   ],
   "source": [
    "# Instantiating a random forest model with default values\n",
    "rf_default = RandomForestClassifier(n_estimators     = 10,\n",
    "                                    criterion        = 'gini',\n",
    "                                    max_depth        = None,\n",
    "                                    min_samples_leaf = 1,\n",
    "                                    bootstrap        = True,\n",
    "                                    warm_start       = False,\n",
    "                                    random_state     = SEED)\n",
    "\n",
    "# Fitting the training data #\n",
    "rf_default_fit = rf_default.fit(X_train, y_train)\n",
    "\n",
    "\n",
    "# predicting based on the testing set #\n",
    "rf_default_fit_pred = rf_default_fit.predict(X_test)\n",
    "\n",
    "\n",
    "# printing the results #\n",
    "print('Training ACCURACY:', rf_default_fit.score(X_train, y_train).round(4))\n",
    "print('Testing  ACCURACY:', rf_default_fit.score(X_test, y_test).round(4))\n",
    "print('AUC Score        :', roc_auc_score(y_true  = y_test,\n",
    "                                          y_score = rf_default_fit_pred).round(4))"
   ]
  },
  {
   "cell_type": "markdown",
   "metadata": {},
   "source": [
    "I will be saving my random forest into the model performance dataframe."
   ]
  },
  {
   "cell_type": "markdown",
   "metadata": {},
   "source": [
    "***"
   ]
  },
  {
   "cell_type": "code",
   "execution_count": 47,
   "metadata": {},
   "outputs": [
    {
     "data": {
      "text/html": [
       "<div>\n",
       "<style scoped>\n",
       "    .dataframe tbody tr th:only-of-type {\n",
       "        vertical-align: middle;\n",
       "    }\n",
       "\n",
       "    .dataframe tbody tr th {\n",
       "        vertical-align: top;\n",
       "    }\n",
       "\n",
       "    .dataframe thead th {\n",
       "        text-align: right;\n",
       "    }\n",
       "</style>\n",
       "<table border=\"1\" class=\"dataframe\">\n",
       "  <thead>\n",
       "    <tr style=\"text-align: right;\">\n",
       "      <th></th>\n",
       "      <th>Model</th>\n",
       "      <th>Training Accuracy</th>\n",
       "      <th>Testing Accuracy</th>\n",
       "      <th>AUC Value</th>\n",
       "    </tr>\n",
       "  </thead>\n",
       "  <tbody>\n",
       "    <tr>\n",
       "      <th>0</th>\n",
       "      <td>Logistic Regression</td>\n",
       "      <td>0.7464</td>\n",
       "      <td>0.7351</td>\n",
       "      <td>0.6916</td>\n",
       "    </tr>\n",
       "    <tr>\n",
       "      <th>1</th>\n",
       "      <td>KNN Classification</td>\n",
       "      <td>0.8019</td>\n",
       "      <td>0.7864</td>\n",
       "      <td>0.5017</td>\n",
       "    </tr>\n",
       "    <tr>\n",
       "      <th>2</th>\n",
       "      <td>Full Tree</td>\n",
       "      <td>0.8986</td>\n",
       "      <td>0.7741</td>\n",
       "      <td>0.7610</td>\n",
       "    </tr>\n",
       "    <tr>\n",
       "      <th>3</th>\n",
       "      <td>Pruned Tree</td>\n",
       "      <td>0.7923</td>\n",
       "      <td>0.8090</td>\n",
       "      <td>0.7883</td>\n",
       "    </tr>\n",
       "    <tr>\n",
       "      <th>4</th>\n",
       "      <td>Tuned LR</td>\n",
       "      <td>0.7464</td>\n",
       "      <td>0.7331</td>\n",
       "      <td>0.6867</td>\n",
       "    </tr>\n",
       "    <tr>\n",
       "      <th>5</th>\n",
       "      <td>Tuned Tree</td>\n",
       "      <td>0.7300</td>\n",
       "      <td>0.7064</td>\n",
       "      <td>0.7840</td>\n",
       "    </tr>\n",
       "    <tr>\n",
       "      <th>6</th>\n",
       "      <td>Random Forest</td>\n",
       "      <td>0.8910</td>\n",
       "      <td>0.7762</td>\n",
       "      <td>0.7608</td>\n",
       "    </tr>\n",
       "  </tbody>\n",
       "</table>\n",
       "</div>"
      ],
      "text/plain": [
       "                 Model  Training Accuracy  Testing Accuracy  AUC Value\n",
       "0  Logistic Regression             0.7464            0.7351     0.6916\n",
       "1   KNN Classification             0.8019            0.7864     0.5017\n",
       "2            Full Tree             0.8986            0.7741     0.7610\n",
       "3          Pruned Tree             0.7923            0.8090     0.7883\n",
       "4             Tuned LR             0.7464            0.7331     0.6867\n",
       "5           Tuned Tree             0.7300            0.7064     0.7840\n",
       "6        Random Forest             0.8910            0.7762     0.7608"
      ]
     },
     "execution_count": 47,
     "metadata": {},
     "output_type": "execute_result"
    }
   ],
   "source": [
    "# declaring model performance objects #\n",
    "rf_train_acc = rf_default_fit.score(X_train, y_train).round(4)\n",
    "rf_test_acc  = rf_default_fit.score(X_test, y_test).round(4)\n",
    "rf_auc       = roc_auc_score(y_true  = y_test,\n",
    "                             y_score = rf_default_fit_pred).round(4)\n",
    "\n",
    "\n",
    "# appending random forest to model_performance #\n",
    "model_performance = model_performance.append(\n",
    "                          {'Model'             : 'Random Forest',\n",
    "                          'Training Accuracy'  : rf_train_acc,\n",
    "                          'Testing Accuracy'   : rf_test_acc,\n",
    "                          'AUC Value'          : rf_auc},\n",
    "                          ignore_index = True)\n",
    "\n",
    "\n",
    "# printing the results #\n",
    "model_performance"
   ]
  },
  {
   "cell_type": "markdown",
   "metadata": {},
   "source": [
    "Now, I will use the logit_full for the data to fit to the random forest"
   ]
  },
  {
   "cell_type": "markdown",
   "metadata": {},
   "source": [
    "***"
   ]
  },
  {
   "cell_type": "code",
   "execution_count": 48,
   "metadata": {},
   "outputs": [],
   "source": [
    "# train_test_split with the logit_full variables #\n",
    "apprentice_chef_data   =  apprentice_chef.loc[ : , candidate_dict['logit_full']]\n",
    "apprentice_chef_target =  apprentice_chef.loc[ : , 'CROSS_SELL_SUCCESS']\n",
    "\n",
    "\n",
    "# train_test_split #\n",
    "X_train_full, X_test_full, y_train_full, y_test_full = train_test_split(\n",
    "            apprentice_chef_data,\n",
    "            apprentice_chef_target,\n",
    "            random_state = SEED,\n",
    "            test_size    = 0.25,\n",
    "            stratify     = apprentice_chef_target)"
   ]
  },
  {
   "cell_type": "code",
   "execution_count": 49,
   "metadata": {},
   "outputs": [
    {
     "name": "stdout",
     "output_type": "stream",
     "text": [
      "Training ACCURACY: 0.9849\n",
      "Testing  ACCURACY: 0.7639\n",
      "AUC Score        : 0.7568\n"
     ]
    }
   ],
   "source": [
    "# Instantiating a random forest model with default values #\n",
    "rf_default_full = RandomForestClassifier(n_estimators     = 10,\n",
    "                                         criterion        = 'gini',\n",
    "                                         max_depth        = None,\n",
    "                                         min_samples_leaf = 1,\n",
    "                                         bootstrap        = True,\n",
    "                                         warm_start       = False,\n",
    "                                         random_state     = SEED)\n",
    "\n",
    "\n",
    "# Fitting the training data #\n",
    "rf_default_full_fit = rf_default_full.fit(X_train_full, y_train_full)\n",
    "\n",
    "\n",
    "# Predicting based on the testing set #\n",
    "rf_default_full_pred = rf_default_full_fit.predict(X_test_full)\n",
    "\n",
    "\n",
    "# Printing the results #\n",
    "print('Training ACCURACY:', rf_default_full_fit.score(X_train_full, y_train_full).round(4))\n",
    "print('Testing  ACCURACY:', rf_default_full_fit.score(X_test_full, y_test_full).round(4))\n",
    "print('AUC Score        :', roc_auc_score(y_true  = y_test_full,\n",
    "                                          y_score = rf_default_full_pred).round(4))"
   ]
  },
  {
   "cell_type": "markdown",
   "metadata": {},
   "source": [
    "Now, I will do a hyperparameter tuning on the random forest model. The first step that I would do is doing the default function"
   ]
  },
  {
   "cell_type": "markdown",
   "metadata": {},
   "source": [
    "***"
   ]
  },
  {
   "cell_type": "code",
   "execution_count": 50,
   "metadata": {},
   "outputs": [],
   "source": [
    "# # declaring a hyperparameter space\n",
    "# estimator_space  = pd.np.arange(100, 1100, 250)\n",
    "# leaf_space       = pd.np.arange(1, 31, 10)\n",
    "# criterion_space  = ['gini', 'entropy']\n",
    "# bootstrap_space  = [True, False]\n",
    "# warm_start_space = [True, False]\n",
    "\n",
    "\n",
    "# # creating a hyperparameter grid\n",
    "# param_grid = {'n_estimators'     : estimator_space,\n",
    "#               'min_samples_leaf' : leaf_space,\n",
    "#               'criterion'        : criterion_space,\n",
    "#               'bootstrap'        : bootstrap_space,\n",
    "#               'warm_start'       : warm_start_space}\n",
    "\n",
    "\n",
    "# # INSTANTIATING the model object without hyperparameters\n",
    "# full_forest_grid = RandomForestClassifier(random_state = SEED)\n",
    "\n",
    "\n",
    "# # GridSearchCV object\n",
    "# full_forest_cv = GridSearchCV(estimator  = full_forest_grid,\n",
    "#                               param_grid = param_grid,\n",
    "#                               cv         = 3,\n",
    "#                               scoring    = make_scorer(roc_auc_score,\n",
    "#                                            needs_threshold = False))\n",
    "\n",
    "\n",
    "# # FITTING to the FULL DATASET (due to cross-validation)\n",
    "# full_forest_cv.fit(apprentice_chef_data, apprentice_chef_target)\n",
    "\n",
    "\n",
    "# # PREDICT step is not needed\n",
    "\n",
    "\n",
    "# # printing the optimal parameters and best score\n",
    "# print(\"Tuned Parameters  :\", full_forest_cv.best_params_)\n",
    "# print(\"Tuned Training AUC:\", full_forest_cv.best_score_.round(4))"
   ]
  },
  {
   "cell_type": "markdown",
   "metadata": {},
   "source": [
    "After this model,I will be tuning the hyperparameters with the most optimized tuning."
   ]
  },
  {
   "cell_type": "markdown",
   "metadata": {},
   "source": [
    "***"
   ]
  },
  {
   "cell_type": "code",
   "execution_count": 51,
   "metadata": {},
   "outputs": [
    {
     "name": "stdout",
     "output_type": "stream",
     "text": [
      "Training ACCURACY: 0.8074\n",
      "Testing  ACCURACY: 0.8029\n",
      "AUC Score        : 0.7686\n"
     ]
    }
   ],
   "source": [
    "# Instantiating the model object with hyperparameters #\n",
    "full_rf_tuned = RandomForestClassifier(bootstrap        = True,\n",
    "                                       criterion        = 'gini',\n",
    "                                       min_samples_leaf = 11,\n",
    "                                       n_estimators     = 850,\n",
    "                                       warm_start       = True,\n",
    "                                       random_state     = SEED)\n",
    "\n",
    "\n",
    "# Fitting the dataset #\n",
    "full_rf_tuned_fit = full_rf_tuned.fit(X_train, y_train)\n",
    "\n",
    "\n",
    "# Predicting based on the testing set #\n",
    "full_rf_tuned_pred = full_rf_tuned_fit.predict(X_test)\n",
    "\n",
    "\n",
    "# Printing the results #\n",
    "print('Training ACCURACY:', full_rf_tuned_fit.score(X_train, y_train).round(4))\n",
    "print('Testing  ACCURACY:', full_rf_tuned_fit.score(X_test, y_test).round(4))\n",
    "print('AUC Score        :', roc_auc_score(y_true  = y_test,\n",
    "                                          y_score = full_rf_tuned_pred).round(4))"
   ]
  },
  {
   "cell_type": "markdown",
   "metadata": {},
   "source": [
    "After I build my random forest and tuned random forest model, I will be saving it on my model performance dataframe"
   ]
  },
  {
   "cell_type": "markdown",
   "metadata": {},
   "source": [
    "***"
   ]
  },
  {
   "cell_type": "code",
   "execution_count": 52,
   "metadata": {},
   "outputs": [
    {
     "data": {
      "text/html": [
       "<div>\n",
       "<style scoped>\n",
       "    .dataframe tbody tr th:only-of-type {\n",
       "        vertical-align: middle;\n",
       "    }\n",
       "\n",
       "    .dataframe tbody tr th {\n",
       "        vertical-align: top;\n",
       "    }\n",
       "\n",
       "    .dataframe thead th {\n",
       "        text-align: right;\n",
       "    }\n",
       "</style>\n",
       "<table border=\"1\" class=\"dataframe\">\n",
       "  <thead>\n",
       "    <tr style=\"text-align: right;\">\n",
       "      <th></th>\n",
       "      <th>Model</th>\n",
       "      <th>Training Accuracy</th>\n",
       "      <th>Testing Accuracy</th>\n",
       "      <th>AUC Value</th>\n",
       "    </tr>\n",
       "  </thead>\n",
       "  <tbody>\n",
       "    <tr>\n",
       "      <th>0</th>\n",
       "      <td>Logistic Regression</td>\n",
       "      <td>0.7464</td>\n",
       "      <td>0.7351</td>\n",
       "      <td>0.6916</td>\n",
       "    </tr>\n",
       "    <tr>\n",
       "      <th>1</th>\n",
       "      <td>KNN Classification</td>\n",
       "      <td>0.8019</td>\n",
       "      <td>0.7864</td>\n",
       "      <td>0.5017</td>\n",
       "    </tr>\n",
       "    <tr>\n",
       "      <th>2</th>\n",
       "      <td>Full Tree</td>\n",
       "      <td>0.8986</td>\n",
       "      <td>0.7741</td>\n",
       "      <td>0.7610</td>\n",
       "    </tr>\n",
       "    <tr>\n",
       "      <th>3</th>\n",
       "      <td>Pruned Tree</td>\n",
       "      <td>0.7923</td>\n",
       "      <td>0.8090</td>\n",
       "      <td>0.7883</td>\n",
       "    </tr>\n",
       "    <tr>\n",
       "      <th>4</th>\n",
       "      <td>Tuned LR</td>\n",
       "      <td>0.7464</td>\n",
       "      <td>0.7331</td>\n",
       "      <td>0.6867</td>\n",
       "    </tr>\n",
       "    <tr>\n",
       "      <th>5</th>\n",
       "      <td>Tuned Tree</td>\n",
       "      <td>0.7300</td>\n",
       "      <td>0.7064</td>\n",
       "      <td>0.7840</td>\n",
       "    </tr>\n",
       "    <tr>\n",
       "      <th>6</th>\n",
       "      <td>Random Forest</td>\n",
       "      <td>0.8910</td>\n",
       "      <td>0.7762</td>\n",
       "      <td>0.7608</td>\n",
       "    </tr>\n",
       "    <tr>\n",
       "      <th>7</th>\n",
       "      <td>Tuned Random Forest</td>\n",
       "      <td>0.8074</td>\n",
       "      <td>0.8029</td>\n",
       "      <td>0.7686</td>\n",
       "    </tr>\n",
       "  </tbody>\n",
       "</table>\n",
       "</div>"
      ],
      "text/plain": [
       "                 Model  Training Accuracy  Testing Accuracy  AUC Value\n",
       "0  Logistic Regression             0.7464            0.7351     0.6916\n",
       "1   KNN Classification             0.8019            0.7864     0.5017\n",
       "2            Full Tree             0.8986            0.7741     0.7610\n",
       "3          Pruned Tree             0.7923            0.8090     0.7883\n",
       "4             Tuned LR             0.7464            0.7331     0.6867\n",
       "5           Tuned Tree             0.7300            0.7064     0.7840\n",
       "6        Random Forest             0.8910            0.7762     0.7608\n",
       "7  Tuned Random Forest             0.8074            0.8029     0.7686"
      ]
     },
     "execution_count": 52,
     "metadata": {},
     "output_type": "execute_result"
    }
   ],
   "source": [
    "# declaring model performance objects #\n",
    "rf_train_acc = full_rf_tuned_fit.score(X_train, y_train).round(4)\n",
    "rf_test_acc  = full_rf_tuned_fit.score(X_test, y_test).round(4)\n",
    "rf_auc       = roc_auc_score(y_true  = y_test,\n",
    "                             y_score = full_rf_tuned_pred).round(4)\n",
    "\n",
    "\n",
    "# appending the tuned random forest to model_performance #\n",
    "model_performance = model_performance.append(\n",
    "                          {'Model'             : 'Tuned Random Forest',\n",
    "                          'Training Accuracy'  : rf_train_acc,\n",
    "                          'Testing Accuracy'   : rf_test_acc,\n",
    "                          'AUC Value'          : rf_auc},\n",
    "                          ignore_index = True)\n",
    "\n",
    "\n",
    "# Printing the results #\n",
    "model_performance"
   ]
  },
  {
   "cell_type": "markdown",
   "metadata": {},
   "source": [
    "<strong> 4.6 Gradient Boosting Classifier"
   ]
  },
  {
   "cell_type": "markdown",
   "metadata": {},
   "source": [
    "The last model that I will create is the gradient boosting classifier. This model is similar to the random forest but rather than looking at the entire model, it will learn from its previous model. I visualize it as the kaizen method where continuous improvement where you look at your previous mistake/problem and keep improving the model."
   ]
  },
  {
   "cell_type": "markdown",
   "metadata": {},
   "source": [
    "I will be creating the gradient boosting classifier with the default settings."
   ]
  },
  {
   "cell_type": "markdown",
   "metadata": {},
   "source": [
    "***"
   ]
  },
  {
   "cell_type": "code",
   "execution_count": 53,
   "metadata": {},
   "outputs": [
    {
     "name": "stdout",
     "output_type": "stream",
     "text": [
      "Training ACCURACY: 0.8245\n",
      "Testing ACCURACY : 0.809\n",
      "AUC Score        : 0.7968\n"
     ]
    }
   ],
   "source": [
    "# Instatiating the model object with hyperparameters #\n",
    "full_gbm_default = GradientBoostingClassifier(loss          = 'deviance',\n",
    "                                              learning_rate = 0.1,\n",
    "                                              n_estimators  = 100,\n",
    "                                              criterion     = 'friedman_mse',\n",
    "                                              max_depth     = 3,\n",
    "                                              warm_start    = False,\n",
    "                                              random_state  = SEED)\n",
    "\n",
    "\n",
    "# Fitting the dataset #\n",
    "full_gbm_default_fit = full_gbm_default.fit(X_train, y_train)\n",
    "\n",
    "\n",
    "# Predicting based on the testing set #\n",
    "full_gbm_default_pred = full_gbm_default_fit.predict(X_test)\n",
    "\n",
    "\n",
    "# Printing the results #\n",
    "print('Training ACCURACY:', full_gbm_default_fit.score(X_train, y_train).round(4))\n",
    "print('Testing ACCURACY :', full_gbm_default_fit.score(X_test, y_test).round(4))\n",
    "print('AUC Score        :', roc_auc_score(y_true  = y_test,\n",
    "                                          y_score = full_gbm_default_pred).round(4))"
   ]
  },
  {
   "cell_type": "code",
   "execution_count": 54,
   "metadata": {},
   "outputs": [
    {
     "data": {
      "text/html": [
       "<div>\n",
       "<style scoped>\n",
       "    .dataframe tbody tr th:only-of-type {\n",
       "        vertical-align: middle;\n",
       "    }\n",
       "\n",
       "    .dataframe tbody tr th {\n",
       "        vertical-align: top;\n",
       "    }\n",
       "\n",
       "    .dataframe thead th {\n",
       "        text-align: right;\n",
       "    }\n",
       "</style>\n",
       "<table border=\"1\" class=\"dataframe\">\n",
       "  <thead>\n",
       "    <tr style=\"text-align: right;\">\n",
       "      <th></th>\n",
       "      <th>Model</th>\n",
       "      <th>Training Accuracy</th>\n",
       "      <th>Testing Accuracy</th>\n",
       "      <th>AUC Value</th>\n",
       "    </tr>\n",
       "  </thead>\n",
       "  <tbody>\n",
       "    <tr>\n",
       "      <th>0</th>\n",
       "      <td>Logistic Regression</td>\n",
       "      <td>0.7464</td>\n",
       "      <td>0.7351</td>\n",
       "      <td>0.6916</td>\n",
       "    </tr>\n",
       "    <tr>\n",
       "      <th>1</th>\n",
       "      <td>KNN Classification</td>\n",
       "      <td>0.8019</td>\n",
       "      <td>0.7864</td>\n",
       "      <td>0.5017</td>\n",
       "    </tr>\n",
       "    <tr>\n",
       "      <th>2</th>\n",
       "      <td>Full Tree</td>\n",
       "      <td>0.8986</td>\n",
       "      <td>0.7741</td>\n",
       "      <td>0.7610</td>\n",
       "    </tr>\n",
       "    <tr>\n",
       "      <th>3</th>\n",
       "      <td>Pruned Tree</td>\n",
       "      <td>0.7923</td>\n",
       "      <td>0.8090</td>\n",
       "      <td>0.7883</td>\n",
       "    </tr>\n",
       "    <tr>\n",
       "      <th>4</th>\n",
       "      <td>Tuned LR</td>\n",
       "      <td>0.7464</td>\n",
       "      <td>0.7331</td>\n",
       "      <td>0.6867</td>\n",
       "    </tr>\n",
       "    <tr>\n",
       "      <th>5</th>\n",
       "      <td>Tuned Tree</td>\n",
       "      <td>0.7300</td>\n",
       "      <td>0.7064</td>\n",
       "      <td>0.7840</td>\n",
       "    </tr>\n",
       "    <tr>\n",
       "      <th>6</th>\n",
       "      <td>Random Forest</td>\n",
       "      <td>0.8910</td>\n",
       "      <td>0.7762</td>\n",
       "      <td>0.7608</td>\n",
       "    </tr>\n",
       "    <tr>\n",
       "      <th>7</th>\n",
       "      <td>Tuned Random Forest</td>\n",
       "      <td>0.8074</td>\n",
       "      <td>0.8029</td>\n",
       "      <td>0.7686</td>\n",
       "    </tr>\n",
       "    <tr>\n",
       "      <th>8</th>\n",
       "      <td>GBM</td>\n",
       "      <td>0.8245</td>\n",
       "      <td>0.8090</td>\n",
       "      <td>0.7968</td>\n",
       "    </tr>\n",
       "  </tbody>\n",
       "</table>\n",
       "</div>"
      ],
      "text/plain": [
       "                 Model  Training Accuracy  Testing Accuracy  AUC Value\n",
       "0  Logistic Regression             0.7464            0.7351     0.6916\n",
       "1   KNN Classification             0.8019            0.7864     0.5017\n",
       "2            Full Tree             0.8986            0.7741     0.7610\n",
       "3          Pruned Tree             0.7923            0.8090     0.7883\n",
       "4             Tuned LR             0.7464            0.7331     0.6867\n",
       "5           Tuned Tree             0.7300            0.7064     0.7840\n",
       "6        Random Forest             0.8910            0.7762     0.7608\n",
       "7  Tuned Random Forest             0.8074            0.8029     0.7686\n",
       "8                  GBM             0.8245            0.8090     0.7968"
      ]
     },
     "execution_count": 54,
     "metadata": {},
     "output_type": "execute_result"
    }
   ],
   "source": [
    "# declaring model performance objects #\n",
    "gbm_train_acc = full_gbm_default_fit.score(X_train, y_train).round(4)\n",
    "gbm_test_acc  = full_gbm_default_fit.score(X_test, y_test).round(4)\n",
    "gbm_auc       = roc_auc_score(y_true  = y_test,\n",
    "                              y_score = full_gbm_default_pred).round(4)\n",
    "\n",
    "\n",
    "# appending the GBM to model_performance #\n",
    "model_performance = model_performance.append(\n",
    "                          {'Model'             : 'GBM',\n",
    "                          'Training Accuracy'  : gbm_train_acc,\n",
    "                          'Testing Accuracy'   : gbm_test_acc,\n",
    "                          'AUC Value'          : gbm_auc},\n",
    "                          ignore_index = True)\n",
    "\n",
    "\n",
    "# Printing the results #\n",
    "model_performance"
   ]
  },
  {
   "cell_type": "markdown",
   "metadata": {},
   "source": [
    "I will conduct a grid search cv to find the optimized parameters for gradient boosting classifier"
   ]
  },
  {
   "cell_type": "markdown",
   "metadata": {},
   "source": [
    "***"
   ]
  },
  {
   "cell_type": "code",
   "execution_count": 55,
   "metadata": {},
   "outputs": [],
   "source": [
    "# # declaring a hyperparameter space\n",
    "# learn_space     = pd.np.arange(0.1, 1.6, 0.3)\n",
    "# estimator_space = pd.np.arange(50, 250, 50)\n",
    "# depth_space     = pd.np.arange(1, 10)\n",
    "\n",
    "\n",
    "# # creating a hyperparameter grid\n",
    "# param_grid = {'learning_rate' : learn_space,\n",
    "#               'max_depth'     : depth_space,\n",
    "#               'n_estimators'  : estimator_space}\n",
    "\n",
    "\n",
    "# # INSTANTIATING the model object without hyperparameters\n",
    "# full_gbm_grid = GradientBoostingClassifier(random_state = 802)\n",
    "\n",
    "\n",
    "# # GridSearchCV object\n",
    "# full_gbm_cv = GridSearchCV(estimator  = full_gbm_grid,\n",
    "#                            param_grid = param_grid,\n",
    "#                            cv         = 3,\n",
    "#                            scoring    = make_scorer(roc_auc_score,\n",
    "#                                         needs_threshold = False))\n",
    "\n",
    "\n",
    "# # FITTING to the FULL DATASET (due to cross-validation)\n",
    "# full_gbm_cv.fit(apprentice_chef_data, apprentice_chef_target)\n",
    "\n",
    "\n",
    "# # PREDICT step is not needed\n",
    "\n",
    "\n",
    "# # printing the optimal parameters and best score\n",
    "# print(\"Tuned Parameters  :\", full_gbm_cv.best_params_)\n",
    "# print(\"Tuned Training AUC:\", full_gbm_cv.best_score_.round(4))"
   ]
  },
  {
   "cell_type": "markdown",
   "metadata": {},
   "source": [
    "Now, I will be using the parameters from the best estimator."
   ]
  },
  {
   "cell_type": "markdown",
   "metadata": {},
   "source": [
    "***"
   ]
  },
  {
   "cell_type": "code",
   "execution_count": 56,
   "metadata": {},
   "outputs": [
    {
     "name": "stdout",
     "output_type": "stream",
     "text": [
      "Training ACCURACY: 0.8053\n",
      "Testing  ACCURACY: 0.8029\n",
      "AUC Score        : 0.7923\n"
     ]
    }
   ],
   "source": [
    "# Tuned GBM 3rd Version #\n",
    "\n",
    "# Setting the SEED #\n",
    "SEED = 222\n",
    "\n",
    "# Instantiating the GradientBoostingClassifier #\n",
    "gbm_tuned = GradientBoostingClassifier(loss = 'deviance',\n",
    "                                       criterion ='friedman_mse',\n",
    "                                       learning_rate = 0.5,\n",
    "                                       max_depth     = 1,\n",
    "                                       min_samples_leaf = 2,\n",
    "                                       min_samples_split = 2,\n",
    "                                       n_estimators  = 125,\n",
    "                                       random_state  = SEED)\n",
    "\n",
    "\n",
    "# Fitting the dataset #\n",
    "gbm_tuned_fit = gbm_tuned.fit(X_train, y_train)\n",
    "\n",
    "\n",
    "# Predicting based on the testing set #\n",
    "gbm_tuned_pred = gbm_tuned_fit.predict(X_test)\n",
    "\n",
    "\n",
    "# Printing the results #\n",
    "print('Training ACCURACY:', gbm_tuned_fit.score(X_train, y_train).round(4))\n",
    "print('Testing  ACCURACY:', gbm_tuned_fit.score(X_test, y_test).round(4))\n",
    "print('AUC Score        :', roc_auc_score(y_true  = y_test,\n",
    "                                          y_score = gbm_tuned_pred).round(4))"
   ]
  },
  {
   "cell_type": "code",
   "execution_count": 57,
   "metadata": {},
   "outputs": [
    {
     "data": {
      "text/html": [
       "<div>\n",
       "<style scoped>\n",
       "    .dataframe tbody tr th:only-of-type {\n",
       "        vertical-align: middle;\n",
       "    }\n",
       "\n",
       "    .dataframe tbody tr th {\n",
       "        vertical-align: top;\n",
       "    }\n",
       "\n",
       "    .dataframe thead th {\n",
       "        text-align: right;\n",
       "    }\n",
       "</style>\n",
       "<table border=\"1\" class=\"dataframe\">\n",
       "  <thead>\n",
       "    <tr style=\"text-align: right;\">\n",
       "      <th></th>\n",
       "      <th>Model</th>\n",
       "      <th>Training Accuracy</th>\n",
       "      <th>Testing Accuracy</th>\n",
       "      <th>AUC Value</th>\n",
       "    </tr>\n",
       "  </thead>\n",
       "  <tbody>\n",
       "    <tr>\n",
       "      <th>0</th>\n",
       "      <td>Logistic Regression</td>\n",
       "      <td>0.7464</td>\n",
       "      <td>0.7351</td>\n",
       "      <td>0.6916</td>\n",
       "    </tr>\n",
       "    <tr>\n",
       "      <th>1</th>\n",
       "      <td>KNN Classification</td>\n",
       "      <td>0.8019</td>\n",
       "      <td>0.7864</td>\n",
       "      <td>0.5017</td>\n",
       "    </tr>\n",
       "    <tr>\n",
       "      <th>2</th>\n",
       "      <td>Full Tree</td>\n",
       "      <td>0.8986</td>\n",
       "      <td>0.7741</td>\n",
       "      <td>0.7610</td>\n",
       "    </tr>\n",
       "    <tr>\n",
       "      <th>3</th>\n",
       "      <td>Pruned Tree</td>\n",
       "      <td>0.7923</td>\n",
       "      <td>0.8090</td>\n",
       "      <td>0.7883</td>\n",
       "    </tr>\n",
       "    <tr>\n",
       "      <th>4</th>\n",
       "      <td>Tuned LR</td>\n",
       "      <td>0.7464</td>\n",
       "      <td>0.7331</td>\n",
       "      <td>0.6867</td>\n",
       "    </tr>\n",
       "    <tr>\n",
       "      <th>5</th>\n",
       "      <td>Tuned Tree</td>\n",
       "      <td>0.7300</td>\n",
       "      <td>0.7064</td>\n",
       "      <td>0.7840</td>\n",
       "    </tr>\n",
       "    <tr>\n",
       "      <th>6</th>\n",
       "      <td>Random Forest</td>\n",
       "      <td>0.8910</td>\n",
       "      <td>0.7762</td>\n",
       "      <td>0.7608</td>\n",
       "    </tr>\n",
       "    <tr>\n",
       "      <th>7</th>\n",
       "      <td>Tuned Random Forest</td>\n",
       "      <td>0.8074</td>\n",
       "      <td>0.8029</td>\n",
       "      <td>0.7686</td>\n",
       "    </tr>\n",
       "    <tr>\n",
       "      <th>8</th>\n",
       "      <td>GBM</td>\n",
       "      <td>0.8245</td>\n",
       "      <td>0.8090</td>\n",
       "      <td>0.7968</td>\n",
       "    </tr>\n",
       "    <tr>\n",
       "      <th>9</th>\n",
       "      <td>Tuned GBM</td>\n",
       "      <td>0.8053</td>\n",
       "      <td>0.8029</td>\n",
       "      <td>0.7923</td>\n",
       "    </tr>\n",
       "  </tbody>\n",
       "</table>\n",
       "</div>"
      ],
      "text/plain": [
       "                 Model  Training Accuracy  Testing Accuracy  AUC Value\n",
       "0  Logistic Regression             0.7464            0.7351     0.6916\n",
       "1   KNN Classification             0.8019            0.7864     0.5017\n",
       "2            Full Tree             0.8986            0.7741     0.7610\n",
       "3          Pruned Tree             0.7923            0.8090     0.7883\n",
       "4             Tuned LR             0.7464            0.7331     0.6867\n",
       "5           Tuned Tree             0.7300            0.7064     0.7840\n",
       "6        Random Forest             0.8910            0.7762     0.7608\n",
       "7  Tuned Random Forest             0.8074            0.8029     0.7686\n",
       "8                  GBM             0.8245            0.8090     0.7968\n",
       "9            Tuned GBM             0.8053            0.8029     0.7923"
      ]
     },
     "execution_count": 57,
     "metadata": {},
     "output_type": "execute_result"
    }
   ],
   "source": [
    "# declaring model performance objects #\n",
    "gbm_train_acc = gbm_tuned_fit.score(X_train, y_train).round(4)\n",
    "gbm_test_acc  = gbm_tuned_fit.score(X_test, y_test).round(4)\n",
    "gbm_auc       = roc_auc_score(y_true  = y_test,\n",
    "                              y_score = gbm_tuned_pred).round(4)\n",
    "\n",
    "\n",
    "# appending the Tuned GBM to model_performance #\n",
    "model_performance = model_performance.append(\n",
    "                          {'Model'             : 'Tuned GBM',\n",
    "                          'Training Accuracy'  : gbm_train_acc,\n",
    "                          'Testing Accuracy'   : gbm_test_acc,\n",
    "                          'AUC Value'          : gbm_auc},\n",
    "                          ignore_index = True)\n",
    "\n",
    "\n",
    "# checking the results #\n",
    "model_performance"
   ]
  },
  {
   "cell_type": "code",
   "execution_count": 58,
   "metadata": {},
   "outputs": [
    {
     "name": "stdout",
     "output_type": "stream",
     "text": [
      "Training ACCURACY: 0.7958\n",
      "Testing  ACCURACY: 0.8172\n",
      "AUC Score        : 0.8029\n"
     ]
    }
   ],
   "source": [
    "# Tuned GBM 4th Version #\n",
    "\n",
    "# Setting the SEED #\n",
    "SEED = 222\n",
    "\n",
    "# Instantiating the GradientBoostingClassifier #\n",
    "gbm_tuned = GradientBoostingClassifier(loss = 'exponential',\n",
    "                                       criterion ='friedman_mse',\n",
    "                                       learning_rate = 0.1,\n",
    "                                       max_depth     = 1,\n",
    "                                       n_estimators  = 100,\n",
    "                                       random_state  = SEED)\n",
    "\n",
    "\n",
    "# Fitting the dataset #\n",
    "gbm_tuned_fit = gbm_tuned.fit(X_train, y_train)\n",
    "\n",
    "\n",
    "# Predicting based on the testing set #\n",
    "gbm_tuned_pred = gbm_tuned_fit.predict(X_test)\n",
    "\n",
    "\n",
    "# Printing the results #\n",
    "print('Training ACCURACY:', gbm_tuned_fit.score(X_train, y_train).round(4))\n",
    "print('Testing  ACCURACY:', gbm_tuned_fit.score(X_test, y_test).round(4))\n",
    "print('AUC Score        :', roc_auc_score(y_true  = y_test,\n",
    "                                          y_score = gbm_tuned_pred).round(4))"
   ]
  },
  {
   "cell_type": "code",
   "execution_count": 59,
   "metadata": {},
   "outputs": [
    {
     "data": {
      "text/html": [
       "<div>\n",
       "<style scoped>\n",
       "    .dataframe tbody tr th:only-of-type {\n",
       "        vertical-align: middle;\n",
       "    }\n",
       "\n",
       "    .dataframe tbody tr th {\n",
       "        vertical-align: top;\n",
       "    }\n",
       "\n",
       "    .dataframe thead th {\n",
       "        text-align: right;\n",
       "    }\n",
       "</style>\n",
       "<table border=\"1\" class=\"dataframe\">\n",
       "  <thead>\n",
       "    <tr style=\"text-align: right;\">\n",
       "      <th></th>\n",
       "      <th>Model</th>\n",
       "      <th>Training Accuracy</th>\n",
       "      <th>Testing Accuracy</th>\n",
       "      <th>AUC Value</th>\n",
       "    </tr>\n",
       "  </thead>\n",
       "  <tbody>\n",
       "    <tr>\n",
       "      <th>0</th>\n",
       "      <td>Logistic Regression</td>\n",
       "      <td>0.7464</td>\n",
       "      <td>0.7351</td>\n",
       "      <td>0.6916</td>\n",
       "    </tr>\n",
       "    <tr>\n",
       "      <th>1</th>\n",
       "      <td>KNN Classification</td>\n",
       "      <td>0.8019</td>\n",
       "      <td>0.7864</td>\n",
       "      <td>0.5017</td>\n",
       "    </tr>\n",
       "    <tr>\n",
       "      <th>2</th>\n",
       "      <td>Full Tree</td>\n",
       "      <td>0.8986</td>\n",
       "      <td>0.7741</td>\n",
       "      <td>0.7610</td>\n",
       "    </tr>\n",
       "    <tr>\n",
       "      <th>3</th>\n",
       "      <td>Pruned Tree</td>\n",
       "      <td>0.7923</td>\n",
       "      <td>0.8090</td>\n",
       "      <td>0.7883</td>\n",
       "    </tr>\n",
       "    <tr>\n",
       "      <th>4</th>\n",
       "      <td>Tuned LR</td>\n",
       "      <td>0.7464</td>\n",
       "      <td>0.7331</td>\n",
       "      <td>0.6867</td>\n",
       "    </tr>\n",
       "    <tr>\n",
       "      <th>5</th>\n",
       "      <td>Tuned Tree</td>\n",
       "      <td>0.7300</td>\n",
       "      <td>0.7064</td>\n",
       "      <td>0.7840</td>\n",
       "    </tr>\n",
       "    <tr>\n",
       "      <th>6</th>\n",
       "      <td>Random Forest</td>\n",
       "      <td>0.8910</td>\n",
       "      <td>0.7762</td>\n",
       "      <td>0.7608</td>\n",
       "    </tr>\n",
       "    <tr>\n",
       "      <th>7</th>\n",
       "      <td>Tuned Random Forest</td>\n",
       "      <td>0.8074</td>\n",
       "      <td>0.8029</td>\n",
       "      <td>0.7686</td>\n",
       "    </tr>\n",
       "    <tr>\n",
       "      <th>8</th>\n",
       "      <td>GBM</td>\n",
       "      <td>0.8245</td>\n",
       "      <td>0.8090</td>\n",
       "      <td>0.7968</td>\n",
       "    </tr>\n",
       "    <tr>\n",
       "      <th>9</th>\n",
       "      <td>Tuned GBM</td>\n",
       "      <td>0.8053</td>\n",
       "      <td>0.8029</td>\n",
       "      <td>0.7923</td>\n",
       "    </tr>\n",
       "    <tr>\n",
       "      <th>10</th>\n",
       "      <td>Tuned GBM 2nd Version</td>\n",
       "      <td>0.7958</td>\n",
       "      <td>0.8172</td>\n",
       "      <td>0.8029</td>\n",
       "    </tr>\n",
       "  </tbody>\n",
       "</table>\n",
       "</div>"
      ],
      "text/plain": [
       "                    Model  Training Accuracy  Testing Accuracy  AUC Value\n",
       "0     Logistic Regression             0.7464            0.7351     0.6916\n",
       "1      KNN Classification             0.8019            0.7864     0.5017\n",
       "2               Full Tree             0.8986            0.7741     0.7610\n",
       "3             Pruned Tree             0.7923            0.8090     0.7883\n",
       "4                Tuned LR             0.7464            0.7331     0.6867\n",
       "5              Tuned Tree             0.7300            0.7064     0.7840\n",
       "6           Random Forest             0.8910            0.7762     0.7608\n",
       "7     Tuned Random Forest             0.8074            0.8029     0.7686\n",
       "8                     GBM             0.8245            0.8090     0.7968\n",
       "9               Tuned GBM             0.8053            0.8029     0.7923\n",
       "10  Tuned GBM 2nd Version             0.7958            0.8172     0.8029"
      ]
     },
     "execution_count": 59,
     "metadata": {},
     "output_type": "execute_result"
    }
   ],
   "source": [
    "# declaring model performance objects #\n",
    "gbm_train_acc = gbm_tuned_fit.score(X_train, y_train).round(4)\n",
    "gbm_test_acc  = gbm_tuned_fit.score(X_test, y_test).round(4)\n",
    "gbm_auc       = roc_auc_score(y_true  = y_test,\n",
    "                              y_score = gbm_tuned_pred).round(4)\n",
    "\n",
    "\n",
    "# appending the tuned gbm 2nd to model_performance #\n",
    "model_performance = model_performance.append(\n",
    "                          {'Model'             : 'Tuned GBM 2nd Version',\n",
    "                          'Training Accuracy'  : gbm_train_acc,\n",
    "                          'Testing Accuracy'   : gbm_test_acc,\n",
    "                          'AUC Value'          : gbm_auc},\n",
    "                          ignore_index = True)\n",
    "\n",
    "\n",
    "# checking the results #\n",
    "model_performance"
   ]
  },
  {
   "cell_type": "markdown",
   "metadata": {},
   "source": [
    "<strong> 5. Conclusion of the result"
   ]
  },
  {
   "cell_type": "markdown",
   "metadata": {},
   "source": [
    "Out of the models that I have build, the <strong>\tTuned GBM 2nd Version </strong> has the best AUC Value: 0.8029. Other model such as <strong> Pruned Tree </strong> has also a good result but the CART models are known for their bad prediction accuracy. \n",
    "\n",
    "There are few things that I can do to improve my model:\n",
    "1. Add more feature that is significant to the target variables.\n",
    "2. Hyperparameter tuning each model in more details.\n",
    "\n"
   ]
  }
 ],
 "metadata": {
  "kernelspec": {
   "display_name": "Python 3",
   "language": "python",
   "name": "python3"
  },
  "language_info": {
   "codemirror_mode": {
    "name": "ipython",
    "version": 3
   },
   "file_extension": ".py",
   "mimetype": "text/x-python",
   "name": "python",
   "nbconvert_exporter": "python",
   "pygments_lexer": "ipython3",
   "version": "3.7.3"
  },
  "toc": {
   "base_numbering": 1,
   "nav_menu": {},
   "number_sections": true,
   "sideBar": true,
   "skip_h1_title": false,
   "title_cell": "Table of Contents",
   "title_sidebar": "Contents",
   "toc_cell": false,
   "toc_position": {},
   "toc_section_display": true,
   "toc_window_display": false
  },
  "varInspector": {
   "cols": {
    "lenName": 16,
    "lenType": 16,
    "lenVar": 40
   },
   "kernels_config": {
    "python": {
     "delete_cmd_postfix": "",
     "delete_cmd_prefix": "del ",
     "library": "var_list.py",
     "varRefreshCmd": "print(var_dic_list())"
    },
    "r": {
     "delete_cmd_postfix": ") ",
     "delete_cmd_prefix": "rm(",
     "library": "var_list.r",
     "varRefreshCmd": "cat(var_dic_list()) "
    }
   },
   "types_to_exclude": [
    "module",
    "function",
    "builtin_function_or_method",
    "instance",
    "_Feature"
   ],
   "window_display": false
  }
 },
 "nbformat": 4,
 "nbformat_minor": 2
}
